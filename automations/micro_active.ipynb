{
 "cells": [
  {
   "cell_type": "code",
   "id": "initial_id",
   "metadata": {
    "collapsed": true,
    "ExecuteTime": {
     "end_time": "2025-04-11T10:38:21.309379Z",
     "start_time": "2025-04-11T10:38:21.169429Z"
    }
   },
   "source": [
    "import time\n",
    "from pywinauto.application import Application\n",
    "from pywinauto.keyboard import send_keys\n",
    "from pywinauto.timings import TimeoutError\n",
    "from os import listdir\n",
    "from os.path import isfile, join"
   ],
   "outputs": [],
   "execution_count": 1
  },
  {
   "metadata": {
    "ExecuteTime": {
     "end_time": "2025-04-11T10:38:21.340626Z",
     "start_time": "2025-04-11T10:38:21.309379Z"
    }
   },
   "cell_type": "code",
   "source": [
    "SMP_FOLDER_PATH = r\"C:\\\\Users\\user\\Downloads\\2400\\DATA27\"\n",
    "SMP_files = [f for f in listdir(SMP_FOLDER_PATH) if isfile(join(SMP_FOLDER_PATH, f)) and f[-3:] == \"SMP\"]"
   ],
   "id": "430b494a3f6a3d06",
   "outputs": [],
   "execution_count": 2
  },
  {
   "metadata": {
    "ExecuteTime": {
     "end_time": "2025-04-11T10:38:21.513238Z",
     "start_time": "2025-04-11T10:38:21.481996Z"
    }
   },
   "cell_type": "code",
   "source": "app = Application(backend='uia').start(r\"C:\\\\Program Files (x86)\\Micromeritics\\MicroActive\\microactive.exe\")",
   "id": "2f32214cea3db60b",
   "outputs": [],
   "execution_count": 3
  },
  {
   "metadata": {
    "ExecuteTime": {
     "end_time": "2025-04-11T10:38:21.560108Z",
     "start_time": "2025-04-11T10:38:21.544485Z"
    }
   },
   "cell_type": "code",
   "source": "window = app.window(best_match='MicroActive')",
   "id": "991c23c9a85973ee",
   "outputs": [],
   "execution_count": 4
  },
  {
   "metadata": {
    "ExecuteTime": {
     "end_time": "2025-04-11T10:38:24.162438Z",
     "start_time": "2025-04-11T10:38:24.146695Z"
    }
   },
   "cell_type": "code",
   "source": "window",
   "id": "e18e536fd67ca87b",
   "outputs": [
    {
     "data": {
      "text/plain": [
       "<pywinauto.application.WindowSpecification at 0x1d215d587f0>"
      ]
     },
     "execution_count": 5,
     "metadata": {},
     "output_type": "execute_result"
    }
   ],
   "execution_count": 5
  },
  {
   "metadata": {
    "ExecuteTime": {
     "end_time": "2025-04-11T10:38:25.561030Z",
     "start_time": "2025-04-11T10:38:24.547513Z"
    }
   },
   "cell_type": "code",
   "source": "window.menu_select(\"Reports->StartReport\")",
   "id": "199e54819ecf3bdc",
   "outputs": [],
   "execution_count": 6
  },
  {
   "metadata": {
    "ExecuteTime": {
     "end_time": "2025-04-11T10:39:29.007710Z",
     "start_time": "2025-04-11T10:39:28.993207Z"
    }
   },
   "cell_type": "code",
   "source": "file_dlg = app.window(best_match='Dialog')",
   "id": "d9a1996dc013b70",
   "outputs": [],
   "execution_count": 13
  },
  {
   "metadata": {
    "ExecuteTime": {
     "end_time": "2025-04-11T09:41:53.022059Z",
     "start_time": "2025-04-11T09:41:53.006433Z"
    }
   },
   "cell_type": "code",
   "source": "file = SMP_files[0]",
   "id": "be642749eda5014f",
   "outputs": [],
   "execution_count": 29
  },
  {
   "metadata": {
    "ExecuteTime": {
     "end_time": "2025-04-11T09:43:24.958646Z",
     "start_time": "2025-04-11T09:43:24.448085Z"
    }
   },
   "cell_type": "code",
   "source": "file_dlg.child_window(best_match=\"Имя файла:Edit\").type_keys(file)",
   "id": "67d4862d82e066c5",
   "outputs": [
    {
     "data": {
      "text/plain": [
       "<uia_controls.EditWrapper - 'Имя файла:', Edit, 5360439716194629305>"
      ]
     },
     "execution_count": 40,
     "metadata": {},
     "output_type": "execute_result"
    }
   ],
   "execution_count": 40
  },
  {
   "metadata": {
    "ExecuteTime": {
     "end_time": "2025-04-11T09:44:03.073348Z",
     "start_time": "2025-04-11T09:44:02.747169Z"
    }
   },
   "cell_type": "code",
   "source": "file_dlg.child_window(best_match=\"Report\", control_type=\"Button\").click()",
   "id": "42d1691f47e2212a",
   "outputs": [
    {
     "data": {
      "text/plain": [
       "<uia_controls.ButtonWrapper - '', None, 8991299521393608949>"
      ]
     },
     "execution_count": 41,
     "metadata": {},
     "output_type": "execute_result"
    }
   ],
   "execution_count": 41
  },
  {
   "metadata": {
    "ExecuteTime": {
     "end_time": "2025-04-11T09:46:26.581688Z",
     "start_time": "2025-04-11T09:46:26.568186Z"
    }
   },
   "cell_type": "code",
   "source": "report_settings = app.window(best_match=\"Dialog\")",
   "id": "b04813539bf32b6d",
   "outputs": [],
   "execution_count": 45
  },
  {
   "metadata": {
    "ExecuteTime": {
     "end_time": "2025-04-11T09:46:27.702357Z",
     "start_time": "2025-04-11T09:46:27.513494Z"
    }
   },
   "cell_type": "code",
   "source": "report_settings.child_window(best_match=\"OK\", control_type=\"Button\").click()",
   "id": "55ee8c879c0c1e54",
   "outputs": [
    {
     "data": {
      "text/plain": [
       "<uia_controls.ButtonWrapper - '', None, -4708322674953884199>"
      ]
     },
     "execution_count": 46,
     "metadata": {},
     "output_type": "execute_result"
    }
   ],
   "execution_count": 46
  },
  {
   "metadata": {
    "ExecuteTime": {
     "end_time": "2025-04-11T09:46:50.866558Z",
     "start_time": "2025-04-11T09:46:50.850990Z"
    }
   },
   "cell_type": "code",
   "source": "report_settings2 = app.window(best_match=\"Dialog\")",
   "id": "f283967786acd961",
   "outputs": [],
   "execution_count": 47
  },
  {
   "metadata": {
    "ExecuteTime": {
     "end_time": "2025-04-11T09:53:54.777721Z",
     "start_time": "2025-04-11T09:53:54.589808Z"
    }
   },
   "cell_type": "code",
   "source": "report_settings.child_window(best_match=\"OK\", control_type=\"Button\").click()",
   "id": "85250a554597e6e",
   "outputs": [
    {
     "data": {
      "text/plain": [
       "<uia_controls.ButtonWrapper - '', None, -1397300713637990237>"
      ]
     },
     "execution_count": 50,
     "metadata": {},
     "output_type": "execute_result"
    }
   ],
   "execution_count": 50
  },
  {
   "metadata": {},
   "cell_type": "code",
   "outputs": [],
   "execution_count": null,
   "source": "",
   "id": "ed826fabd7442275"
  }
 ],
 "metadata": {
  "kernelspec": {
   "display_name": "Python 3",
   "language": "python",
   "name": "python3"
  },
  "language_info": {
   "codemirror_mode": {
    "name": "ipython",
    "version": 2
   },
   "file_extension": ".py",
   "mimetype": "text/x-python",
   "name": "python",
   "nbconvert_exporter": "python",
   "pygments_lexer": "ipython2",
   "version": "2.7.6"
  }
 },
 "nbformat": 4,
 "nbformat_minor": 5
}
