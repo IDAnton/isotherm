{
 "cells": [
  {
   "metadata": {
    "ExecuteTime": {
     "end_time": "2025-04-13T17:38:36.532624Z",
     "start_time": "2025-04-13T17:38:36.358296Z"
    }
   },
   "cell_type": "code",
   "source": [
    "import time\n",
    "from pywinauto.application import Application\n",
    "from pywinauto.keyboard import send_keys\n",
    "import os"
   ],
   "id": "1f7ae67a64ca7353",
   "outputs": [],
   "execution_count": 2
  },
  {
   "metadata": {
    "ExecuteTime": {
     "end_time": "2025-04-13T16:39:41.092875Z",
     "start_time": "2025-04-13T16:39:41.058343Z"
    }
   },
   "cell_type": "code",
   "source": "app = Application(backend='uia').start(r\"C:\\\\Program Files (x86)\\Micromeritics\\MicroActive\\microactive.exe\")",
   "id": "f9415360f13170db",
   "outputs": [],
   "execution_count": 51
  },
  {
   "metadata": {
    "ExecuteTime": {
     "end_time": "2025-04-13T16:45:19.400992Z",
     "start_time": "2025-04-13T16:45:19.397749Z"
    }
   },
   "cell_type": "code",
   "source": "dlg = app.window(best_match='MicroActive Version 7.00')",
   "id": "a6b6e3e1b7768b4c",
   "outputs": [],
   "execution_count": 63
  },
  {
   "metadata": {
    "ExecuteTime": {
     "end_time": "2025-04-13T16:52:03.055497Z",
     "start_time": "2025-04-13T16:52:01.575089Z"
    }
   },
   "cell_type": "code",
   "source": "dlg.menu_select(\"Reports->Start reports\")",
   "id": "11e44810e4ba75cf",
   "outputs": [],
   "execution_count": 74
  },
  {
   "metadata": {
    "ExecuteTime": {
     "end_time": "2025-04-13T16:55:26.354927Z",
     "start_time": "2025-04-13T16:55:26.351996Z"
    }
   },
   "cell_type": "code",
   "source": [
    "folder_path = r\"E:\\Anton\\изотермы\\DATA1\"  # замени на свой путь\n",
    "smp_files = [f for f in os.listdir(folder_path) if f.lower().endswith(\".smp\")]\n",
    "file = smp_files[0]"
   ],
   "id": "317832c7b9fcf18d",
   "outputs": [],
   "execution_count": 82
  },
  {
   "metadata": {
    "ExecuteTime": {
     "end_time": "2025-04-13T16:55:01.634907Z",
     "start_time": "2025-04-13T16:55:01.632484Z"
    }
   },
   "cell_type": "code",
   "source": "file_dlg = app.window(best_match=\"Dialog\", found_index=0)",
   "id": "818248e5b8253003",
   "outputs": [],
   "execution_count": 80
  },
  {
   "metadata": {
    "ExecuteTime": {
     "end_time": "2025-04-13T16:55:27.122682Z",
     "start_time": "2025-04-13T16:55:26.357933Z"
    }
   },
   "cell_type": "code",
   "source": "file_dlg.child_window(best_match=\"Имя файла:Edit\").type_keys(file)",
   "id": "4c9382369610510d",
   "outputs": [
    {
     "data": {
      "text/plain": [
       "<uia_controls.EditWrapper - 'Имя файла:', Edit, 5147252762045579844>"
      ]
     },
     "execution_count": 83,
     "metadata": {},
     "output_type": "execute_result"
    }
   ],
   "execution_count": 83
  },
  {
   "metadata": {
    "ExecuteTime": {
     "end_time": "2025-04-13T16:55:51.841321Z",
     "start_time": "2025-04-13T16:55:51.215344Z"
    }
   },
   "cell_type": "code",
   "source": "file_dlg.child_window(best_match=\"Report\", control_type=\"Button\").click()",
   "id": "385ac596761662be",
   "outputs": [
    {
     "data": {
      "text/plain": [
       "<uia_controls.ButtonWrapper - 'Report', None, 3455475863935643527>"
      ]
     },
     "execution_count": 84,
     "metadata": {},
     "output_type": "execute_result"
    }
   ],
   "execution_count": 84
  },
  {
   "metadata": {
    "ExecuteTime": {
     "end_time": "2025-04-13T16:56:13.478855Z",
     "start_time": "2025-04-13T16:56:13.145897Z"
    }
   },
   "cell_type": "code",
   "source": [
    "file_dlg = app.window(best_match=\"Dialog\", found_index=0)\n",
    "file_dlg.child_window(best_match=\"OK\", control_type=\"Button\").click()"
   ],
   "id": "d99f914223cd7cd4",
   "outputs": [
    {
     "data": {
      "text/plain": [
       "<uia_controls.ButtonWrapper - '', None, -4856285012675848194>"
      ]
     },
     "execution_count": 85,
     "metadata": {},
     "output_type": "execute_result"
    }
   ],
   "execution_count": 85
  },
  {
   "metadata": {
    "ExecuteTime": {
     "end_time": "2025-04-13T16:56:25.069345Z",
     "start_time": "2025-04-13T16:56:24.777540Z"
    }
   },
   "cell_type": "code",
   "source": [
    "file_dlg = app.window(best_match=\"Dialog\", found_index=0)\n",
    "file_dlg.child_window(best_match=\"OK\", control_type=\"Button\").click()"
   ],
   "id": "3ac750783342ecb6",
   "outputs": [
    {
     "data": {
      "text/plain": [
       "<uia_controls.ButtonWrapper - '', None, 5880001604961734754>"
      ]
     },
     "execution_count": 86,
     "metadata": {},
     "output_type": "execute_result"
    }
   ],
   "execution_count": 86
  },
  {
   "metadata": {
    "ExecuteTime": {
     "end_time": "2025-04-13T17:02:12.543494Z",
     "start_time": "2025-04-13T16:59:31.803462Z"
    }
   },
   "cell_type": "code",
   "source": [
    "app = Application(backend='uia').start(r\"C:\\\\Program Files (x86)\\Micromeritics\\MicroActive\\microactive.exe\")\n",
    "dlg = app.window(best_match='MicroActive Version 7.00')\n",
    "\n",
    "folders = [f\"\\DATA{i}\"for i in range(1, 27)]\n",
    "for folder in folders:\n",
    "    folder_path = \"E:\\Anton\\изотермы\" + folder\n",
    "    smp_files = [f for f in os.listdir(folder_path) if f.lower().endswith(\".smp\")]\n",
    "    for file in smp_files:\n",
    "        dlg.menu_select(\"Reports->Start reports\")\n",
    "        file_dlg = app.window(best_match=\"Dialog\", found_index=0)\n",
    "        file_dlg.child_window(best_match=\"Имя файла:Edit\").type_keys(file)\n",
    "        file_dlg.child_window(best_match=\"Report\", control_type=\"Button\").click()\n",
    "        file_dlg = app.window(best_match=\"Dialog\", found_index=0)\n",
    "        file_dlg.child_window(best_match=\"OK\", control_type=\"Button\").click()\n",
    "        file_dlg = app.window(best_match=\"Dialog\", found_index=0)\n",
    "        file_dlg.child_window(best_match=\"OK\", control_type=\"Button\").click()"
   ],
   "id": "b5daedf31fb27ed2",
   "outputs": [
    {
     "name": "stderr",
     "output_type": "stream",
     "text": [
      "<>:4: SyntaxWarning: invalid escape sequence '\\D'\n",
      "<>:6: SyntaxWarning: invalid escape sequence '\\A'\n",
      "<>:4: SyntaxWarning: invalid escape sequence '\\D'\n",
      "<>:6: SyntaxWarning: invalid escape sequence '\\A'\n",
      "C:\\Users\\anton\\AppData\\Local\\Temp\\ipykernel_9028\\2628875454.py:4: SyntaxWarning: invalid escape sequence '\\D'\n",
      "  folders = [f\"\\DATA{i}\"for i in range(1, 27)]\n",
      "C:\\Users\\anton\\AppData\\Local\\Temp\\ipykernel_9028\\2628875454.py:6: SyntaxWarning: invalid escape sequence '\\A'\n",
      "  folder_path = \"E:\\Anton\\изотермы\" + folder\n",
      "C:\\Users\\anton\\AppData\\Local\\Temp\\ipykernel_9028\\2628875454.py:4: SyntaxWarning: invalid escape sequence '\\D'\n",
      "  folders = [f\"\\DATA{i}\"for i in range(1, 27)]\n",
      "C:\\Users\\anton\\AppData\\Local\\Temp\\ipykernel_9028\\2628875454.py:6: SyntaxWarning: invalid escape sequence '\\A'\n",
      "  folder_path = \"E:\\Anton\\изотермы\" + folder\n"
     ]
    },
    {
     "ename": "COMError",
     "evalue": "(-2147220991, 'Событие не смогло вызвать ни одного из абонентов', (None, None, None, 0, None))",
     "output_type": "error",
     "traceback": [
      "\u001B[31m---------------------------------------------------------------------------\u001B[39m",
      "\u001B[31mCOMError\u001B[39m                                  Traceback (most recent call last)",
      "\u001B[36mCell\u001B[39m\u001B[36m \u001B[39m\u001B[32mIn[87]\u001B[39m\u001B[32m, line 11\u001B[39m\n\u001B[32m      9\u001B[39m dlg.menu_select(\u001B[33m\"\u001B[39m\u001B[33mReports->Start reports\u001B[39m\u001B[33m\"\u001B[39m)\n\u001B[32m     10\u001B[39m file_dlg = app.window(best_match=\u001B[33m\"\u001B[39m\u001B[33mDialog\u001B[39m\u001B[33m\"\u001B[39m, found_index=\u001B[32m0\u001B[39m)\n\u001B[32m---> \u001B[39m\u001B[32m11\u001B[39m \u001B[43mfile_dlg\u001B[49m\u001B[43m.\u001B[49m\u001B[43mchild_window\u001B[49m\u001B[43m(\u001B[49m\u001B[43mbest_match\u001B[49m\u001B[43m=\u001B[49m\u001B[33;43m\"\u001B[39;49m\u001B[33;43mИмя файла:Edit\u001B[39;49m\u001B[33;43m\"\u001B[39;49m\u001B[43m)\u001B[49m\u001B[43m.\u001B[49m\u001B[43mtype_keys\u001B[49m(file)\n\u001B[32m     12\u001B[39m file_dlg.child_window(best_match=\u001B[33m\"\u001B[39m\u001B[33mReport\u001B[39m\u001B[33m\"\u001B[39m, control_type=\u001B[33m\"\u001B[39m\u001B[33mButton\u001B[39m\u001B[33m\"\u001B[39m).click()\n\u001B[32m     13\u001B[39m file_dlg = app.window(best_match=\u001B[33m\"\u001B[39m\u001B[33mDialog\u001B[39m\u001B[33m\"\u001B[39m, found_index=\u001B[32m0\u001B[39m)\n",
      "\u001B[36mFile \u001B[39m\u001B[32m~\\PyCharmMiscProject\\.venv\\Lib\\site-packages\\pywinauto\\application.py:379\u001B[39m, in \u001B[36mWindowSpecification.__getattribute__\u001B[39m\u001B[34m(self, attr_name)\u001B[39m\n\u001B[32m    374\u001B[39m \u001B[38;5;66;03m# if we already have 2 levels of criteria (dlg, control)\u001B[39;00m\n\u001B[32m    375\u001B[39m \u001B[38;5;66;03m# this third must be an attribute so resolve and get the\u001B[39;00m\n\u001B[32m    376\u001B[39m \u001B[38;5;66;03m# attribute and return it\u001B[39;00m\n\u001B[32m    377\u001B[39m \u001B[38;5;28;01mif\u001B[39;00m \u001B[38;5;28mlen\u001B[39m(\u001B[38;5;28mself\u001B[39m.criteria) >= \u001B[32m2\u001B[39m:  \u001B[38;5;66;03m# FIXME - this is surprising\u001B[39;00m\n\u001B[32m--> \u001B[39m\u001B[32m379\u001B[39m     ctrls = \u001B[38;5;28;43mself\u001B[39;49m\u001B[43m.\u001B[49m\u001B[43m__resolve_control\u001B[49m\u001B[43m(\u001B[49m\u001B[38;5;28;43mself\u001B[39;49m\u001B[43m.\u001B[49m\u001B[43mcriteria\u001B[49m\u001B[43m)\u001B[49m\n\u001B[32m    381\u001B[39m     \u001B[38;5;28;01mtry\u001B[39;00m:\n\u001B[32m    382\u001B[39m         \u001B[38;5;28;01mreturn\u001B[39;00m \u001B[38;5;28mgetattr\u001B[39m(ctrls[-\u001B[32m1\u001B[39m], attr_name)\n",
      "\u001B[36mFile \u001B[39m\u001B[32m~\\PyCharmMiscProject\\.venv\\Lib\\site-packages\\pywinauto\\application.py:250\u001B[39m, in \u001B[36mWindowSpecification.__resolve_control\u001B[39m\u001B[34m(self, criteria, timeout, retry_interval)\u001B[39m\n\u001B[32m    247\u001B[39m     retry_interval = Timings.window_find_retry\n\u001B[32m    249\u001B[39m \u001B[38;5;28;01mtry\u001B[39;00m:\n\u001B[32m--> \u001B[39m\u001B[32m250\u001B[39m     ctrl = \u001B[43mwait_until_passes\u001B[49m\u001B[43m(\u001B[49m\n\u001B[32m    251\u001B[39m \u001B[43m        \u001B[49m\u001B[43mtimeout\u001B[49m\u001B[43m,\u001B[49m\n\u001B[32m    252\u001B[39m \u001B[43m        \u001B[49m\u001B[43mretry_interval\u001B[49m\u001B[43m,\u001B[49m\n\u001B[32m    253\u001B[39m \u001B[43m        \u001B[49m\u001B[38;5;28;43mself\u001B[39;49m\u001B[43m.\u001B[49m\u001B[43m__get_ctrl\u001B[49m\u001B[43m,\u001B[49m\n\u001B[32m    254\u001B[39m \u001B[43m        \u001B[49m\u001B[43m(\u001B[49m\u001B[43mfindwindows\u001B[49m\u001B[43m.\u001B[49m\u001B[43mElementNotFoundError\u001B[49m\u001B[43m,\u001B[49m\n\u001B[32m    255\u001B[39m \u001B[43m         \u001B[49m\u001B[43mfindbestmatch\u001B[49m\u001B[43m.\u001B[49m\u001B[43mMatchError\u001B[49m\u001B[43m,\u001B[49m\n\u001B[32m    256\u001B[39m \u001B[43m         \u001B[49m\u001B[43mcontrols\u001B[49m\u001B[43m.\u001B[49m\u001B[43mInvalidWindowHandle\u001B[49m\u001B[43m,\u001B[49m\n\u001B[32m    257\u001B[39m \u001B[43m         \u001B[49m\u001B[43mcontrols\u001B[49m\u001B[43m.\u001B[49m\u001B[43mInvalidElement\u001B[49m\u001B[43m)\u001B[49m\u001B[43m,\u001B[49m\n\u001B[32m    258\u001B[39m \u001B[43m        \u001B[49m\u001B[43mcriteria\u001B[49m\u001B[43m)\u001B[49m\n\u001B[32m    260\u001B[39m \u001B[38;5;28;01mexcept\u001B[39;00m \u001B[38;5;167;01mTimeoutError\u001B[39;00m \u001B[38;5;28;01mas\u001B[39;00m e:\n\u001B[32m    261\u001B[39m     \u001B[38;5;28;01mraise\u001B[39;00m e.original_exception\n",
      "\u001B[36mFile \u001B[39m\u001B[32m~\\PyCharmMiscProject\\.venv\\Lib\\site-packages\\pywinauto\\timings.py:436\u001B[39m, in \u001B[36mwait_until_passes\u001B[39m\u001B[34m(timeout, retry_interval, func, exceptions, *args, **kwargs)\u001B[39m\n\u001B[32m    433\u001B[39m \u001B[38;5;28;01mwhile\u001B[39;00m \u001B[38;5;28;01mTrue\u001B[39;00m:\n\u001B[32m    434\u001B[39m     \u001B[38;5;28;01mtry\u001B[39;00m:\n\u001B[32m    435\u001B[39m         \u001B[38;5;66;03m# Call the function with any arguments\u001B[39;00m\n\u001B[32m--> \u001B[39m\u001B[32m436\u001B[39m         func_val = \u001B[43mfunc\u001B[49m\u001B[43m(\u001B[49m\u001B[43m*\u001B[49m\u001B[43margs\u001B[49m\u001B[43m,\u001B[49m\u001B[43m \u001B[49m\u001B[43m*\u001B[49m\u001B[43m*\u001B[49m\u001B[43mkwargs\u001B[49m\u001B[43m)\u001B[49m\n\u001B[32m    438\u001B[39m         \u001B[38;5;66;03m# if no exception is raised then we are finished\u001B[39;00m\n\u001B[32m    439\u001B[39m         \u001B[38;5;28;01mbreak\u001B[39;00m\n",
      "\u001B[36mFile \u001B[39m\u001B[32m~\\PyCharmMiscProject\\.venv\\Lib\\site-packages\\pywinauto\\application.py:222\u001B[39m, in \u001B[36mWindowSpecification.__get_ctrl\u001B[39m\u001B[34m(self, criteria_)\u001B[39m\n\u001B[32m    220\u001B[39m \u001B[38;5;28;01mif\u001B[39;00m \u001B[33m'\u001B[39m\u001B[33mbackend\u001B[39m\u001B[33m'\u001B[39m \u001B[38;5;129;01mnot\u001B[39;00m \u001B[38;5;129;01min\u001B[39;00m ctrl_criteria:\n\u001B[32m    221\u001B[39m     ctrl_criteria[\u001B[33m'\u001B[39m\u001B[33mbackend\u001B[39m\u001B[33m'\u001B[39m] = \u001B[38;5;28mself\u001B[39m.backend.name\n\u001B[32m--> \u001B[39m\u001B[32m222\u001B[39m ctrl = \u001B[38;5;28mself\u001B[39m.backend.generic_wrapper_class(\u001B[43mfindwindows\u001B[49m\u001B[43m.\u001B[49m\u001B[43mfind_element\u001B[49m\u001B[43m(\u001B[49m\u001B[43m*\u001B[49m\u001B[43m*\u001B[49m\u001B[43mctrl_criteria\u001B[49m\u001B[43m)\u001B[49m)\n\u001B[32m    223\u001B[39m previous_parent = ctrl.element_info\n\u001B[32m    224\u001B[39m ctrls.append(ctrl)\n",
      "\u001B[36mFile \u001B[39m\u001B[32m~\\PyCharmMiscProject\\.venv\\Lib\\site-packages\\pywinauto\\findwindows.py:84\u001B[39m, in \u001B[36mfind_element\u001B[39m\u001B[34m(**kwargs)\u001B[39m\n\u001B[32m     77\u001B[39m \u001B[38;5;28;01mdef\u001B[39;00m\u001B[38;5;250m \u001B[39m\u001B[34mfind_element\u001B[39m(**kwargs):\n\u001B[32m     78\u001B[39m \u001B[38;5;250m    \u001B[39m\u001B[33;03m\"\"\"\u001B[39;00m\n\u001B[32m     79\u001B[39m \u001B[33;03m    Call find_elements and ensure that only one element is returned\u001B[39;00m\n\u001B[32m     80\u001B[39m \n\u001B[32m     81\u001B[39m \u001B[33;03m    Calls find_elements with exactly the same arguments as it is called with\u001B[39;00m\n\u001B[32m     82\u001B[39m \u001B[33;03m    so please see :py:func:`find_elements` for the full parameters description.\u001B[39;00m\n\u001B[32m     83\u001B[39m \u001B[33;03m    \"\"\"\u001B[39;00m\n\u001B[32m---> \u001B[39m\u001B[32m84\u001B[39m     elements = \u001B[43mfind_elements\u001B[49m\u001B[43m(\u001B[49m\u001B[43m*\u001B[49m\u001B[43m*\u001B[49m\u001B[43mkwargs\u001B[49m\u001B[43m)\u001B[49m\n\u001B[32m     86\u001B[39m     \u001B[38;5;28;01mif\u001B[39;00m \u001B[38;5;129;01mnot\u001B[39;00m elements:\n\u001B[32m     87\u001B[39m         \u001B[38;5;28;01mraise\u001B[39;00m ElementNotFoundError(kwargs)\n",
      "\u001B[36mFile \u001B[39m\u001B[32m~\\PyCharmMiscProject\\.venv\\Lib\\site-packages\\pywinauto\\findwindows.py:305\u001B[39m, in \u001B[36mfind_elements\u001B[39m\u001B[34m(class_name, class_name_re, parent, process, title, title_re, top_level_only, visible_only, enabled_only, best_match, handle, ctrl_index, found_index, predicate_func, active_only, control_id, control_type, auto_id, framework_id, backend, depth)\u001B[39m\n\u001B[32m    300\u001B[39m     \u001B[38;5;28;01mexcept\u001B[39;00m (controls.InvalidWindowHandle,\n\u001B[32m    301\u001B[39m             controls.InvalidElement):\n\u001B[32m    302\u001B[39m         \u001B[38;5;66;03m# skip invalid handles - they have dissapeared\u001B[39;00m\n\u001B[32m    303\u001B[39m         \u001B[38;5;66;03m# since the list of elements was retrieved\u001B[39;00m\n\u001B[32m    304\u001B[39m         \u001B[38;5;28;01mcontinue\u001B[39;00m\n\u001B[32m--> \u001B[39m\u001B[32m305\u001B[39m elements = \u001B[43mfindbestmatch\u001B[49m\u001B[43m.\u001B[49m\u001B[43mfind_best_control_matches\u001B[49m\u001B[43m(\u001B[49m\u001B[43mbest_match\u001B[49m\u001B[43m,\u001B[49m\u001B[43m \u001B[49m\u001B[43mwrapped_elems\u001B[49m\u001B[43m)\u001B[49m\n\u001B[32m    307\u001B[39m \u001B[38;5;66;03m# convert found elements back to ElementInfo\u001B[39;00m\n\u001B[32m    308\u001B[39m backup_elements = elements[:]\n",
      "\u001B[36mFile \u001B[39m\u001B[32m~\\PyCharmMiscProject\\.venv\\Lib\\site-packages\\pywinauto\\findbestmatch.py:495\u001B[39m, in \u001B[36mfind_best_control_matches\u001B[39m\u001B[34m(search_text, controls)\u001B[39m\n\u001B[32m    483\u001B[39m \u001B[38;5;28;01mdef\u001B[39;00m\u001B[38;5;250m \u001B[39m\u001B[34mfind_best_control_matches\u001B[39m(search_text, controls):\n\u001B[32m    484\u001B[39m \u001B[38;5;250m    \u001B[39m\u001B[33;03m\"\"\"Returns the control that is the the best match to search_text\u001B[39;00m\n\u001B[32m    485\u001B[39m \n\u001B[32m    486\u001B[39m \u001B[33;03m    This is slightly differnt from find_best_match in that it builds\u001B[39;00m\n\u001B[32m   (...)\u001B[39m\u001B[32m    493\u001B[39m \u001B[33;03m    then it will just add \"ListView\".\u001B[39;00m\n\u001B[32m    494\u001B[39m \u001B[33;03m    \"\"\"\u001B[39;00m\n\u001B[32m--> \u001B[39m\u001B[32m495\u001B[39m     name_control_map = \u001B[43mbuild_unique_dict\u001B[49m\u001B[43m(\u001B[49m\u001B[43mcontrols\u001B[49m\u001B[43m)\u001B[49m\n\u001B[32m    498\u001B[39m     \u001B[38;5;66;03m#print \">>>>>>>\", repr(name_control_map).decode(\"ascii\", \"ignore\")\u001B[39;00m\n\u001B[32m    499\u001B[39m \u001B[38;5;66;03m#    # collect all the possible names for all controls\u001B[39;00m\n\u001B[32m    500\u001B[39m \u001B[38;5;66;03m#    # and build a list of them\u001B[39;00m\n\u001B[32m   (...)\u001B[39m\u001B[32m    505\u001B[39m \u001B[38;5;66;03m#        for name in ctrl_names:\u001B[39;00m\n\u001B[32m    506\u001B[39m \u001B[38;5;66;03m#            name_control_map[name] = ctrl\u001B[39;00m\n\u001B[32m    508\u001B[39m     search_text = six.text_type(search_text)\n",
      "\u001B[36mFile \u001B[39m\u001B[32m~\\PyCharmMiscProject\\.venv\\Lib\\site-packages\\pywinauto\\findbestmatch.py:474\u001B[39m, in \u001B[36mbuild_unique_dict\u001B[39m\u001B[34m(controls)\u001B[39m\n\u001B[32m    471\u001B[39m \u001B[38;5;66;03m# collect all the possible names for all controls\u001B[39;00m\n\u001B[32m    472\u001B[39m \u001B[38;5;66;03m# and build a list of them\u001B[39;00m\n\u001B[32m    473\u001B[39m \u001B[38;5;28;01mfor\u001B[39;00m ctrl \u001B[38;5;129;01min\u001B[39;00m controls:\n\u001B[32m--> \u001B[39m\u001B[32m474\u001B[39m     ctrl_names = \u001B[43mget_control_names\u001B[49m\u001B[43m(\u001B[49m\u001B[43mctrl\u001B[49m\u001B[43m,\u001B[49m\u001B[43m \u001B[49m\u001B[43mcontrols\u001B[49m\u001B[43m,\u001B[49m\u001B[43m \u001B[49m\u001B[43mtext_ctrls\u001B[49m\u001B[43m)\u001B[49m\n\u001B[32m    476\u001B[39m     \u001B[38;5;66;03m# for each of the names\u001B[39;00m\n\u001B[32m    477\u001B[39m     \u001B[38;5;28;01mfor\u001B[39;00m name \u001B[38;5;129;01min\u001B[39;00m ctrl_names:\n",
      "\u001B[36mFile \u001B[39m\u001B[32m~\\PyCharmMiscProject\\.venv\\Lib\\site-packages\\pywinauto\\findbestmatch.py:320\u001B[39m, in \u001B[36mget_control_names\u001B[39m\u001B[34m(control, allcontrols, textcontrols)\u001B[39m\n\u001B[32m    317\u001B[39m     \u001B[38;5;28;01mpass\u001B[39;00m \u001B[38;5;66;03m#ActionLogger().log('Warning! Cannot get control.texts()') #\\nTraceback:\\n' + traceback.format_exc())\u001B[39;00m\n\u001B[32m    319\u001B[39m \u001B[38;5;66;03m# so find the text of the nearest text visible control\u001B[39;00m\n\u001B[32m--> \u001B[39m\u001B[32m320\u001B[39m non_text_names = \u001B[43mget_non_text_control_name\u001B[49m\u001B[43m(\u001B[49m\u001B[43mcontrol\u001B[49m\u001B[43m,\u001B[49m\u001B[43m \u001B[49m\u001B[43mallcontrols\u001B[49m\u001B[43m,\u001B[49m\u001B[43m \u001B[49m\u001B[43mtextcontrols\u001B[49m\u001B[43m)\u001B[49m\n\u001B[32m    322\u001B[39m \u001B[38;5;66;03m# and if one was found - add it\u001B[39;00m\n\u001B[32m    323\u001B[39m \u001B[38;5;28;01mif\u001B[39;00m non_text_names:\n",
      "\u001B[36mFile \u001B[39m\u001B[32m~\\PyCharmMiscProject\\.venv\\Lib\\site-packages\\pywinauto\\findbestmatch.py:219\u001B[39m, in \u001B[36mget_non_text_control_name\u001B[39m\u001B[34m(ctrl, controls, text_ctrls)\u001B[39m\n\u001B[32m    215\u001B[39m \u001B[38;5;28;01mfor\u001B[39;00m text_ctrl \u001B[38;5;129;01min\u001B[39;00m text_ctrls:\n\u001B[32m    216\u001B[39m \n\u001B[32m    217\u001B[39m     \u001B[38;5;66;03m# get aliases to the control rectangles\u001B[39;00m\n\u001B[32m    218\u001B[39m     text_r = text_ctrl.rectangle()\n\u001B[32m--> \u001B[39m\u001B[32m219\u001B[39m     ctrl_r = \u001B[43mctrl\u001B[49m\u001B[43m.\u001B[49m\u001B[43mrectangle\u001B[49m\u001B[43m(\u001B[49m\u001B[43m)\u001B[49m\n\u001B[32m    221\u001B[39m     \u001B[38;5;66;03m# skip controls where text win is to the right of ctrl\u001B[39;00m\n\u001B[32m    222\u001B[39m     \u001B[38;5;28;01mif\u001B[39;00m text_r.left >= ctrl_r.right:\n",
      "\u001B[36mFile \u001B[39m\u001B[32m~\\PyCharmMiscProject\\.venv\\Lib\\site-packages\\pywinauto\\base_wrapper.py:367\u001B[39m, in \u001B[36mBaseWrapper.rectangle\u001B[39m\u001B[34m(self)\u001B[39m\n\u001B[32m    356\u001B[39m \u001B[38;5;28;01mdef\u001B[39;00m\u001B[38;5;250m \u001B[39m\u001B[34mrectangle\u001B[39m(\u001B[38;5;28mself\u001B[39m):\n\u001B[32m    357\u001B[39m \u001B[38;5;250m    \u001B[39m\u001B[33;03m\"\"\"\u001B[39;00m\n\u001B[32m    358\u001B[39m \u001B[33;03m    Return the rectangle of element\u001B[39;00m\n\u001B[32m    359\u001B[39m \n\u001B[32m   (...)\u001B[39m\u001B[32m    365\u001B[39m \u001B[33;03m    See win32structures.RECT for more information.\u001B[39;00m\n\u001B[32m    366\u001B[39m \u001B[33;03m    \"\"\"\u001B[39;00m\n\u001B[32m--> \u001B[39m\u001B[32m367\u001B[39m     \u001B[38;5;28;01mreturn\u001B[39;00m \u001B[38;5;28;43mself\u001B[39;49m\u001B[43m.\u001B[49m\u001B[43melement_info\u001B[49m\u001B[43m.\u001B[49m\u001B[43mrectangle\u001B[49m\n",
      "\u001B[36mFile \u001B[39m\u001B[32m~\\PyCharmMiscProject\\.venv\\Lib\\site-packages\\pywinauto\\uia_element_info.py:326\u001B[39m, in \u001B[36mUIAElementInfo.rectangle\u001B[39m\u001B[34m(self)\u001B[39m\n\u001B[32m    323\u001B[39m \u001B[38;5;129m@property\u001B[39m\n\u001B[32m    324\u001B[39m \u001B[38;5;28;01mdef\u001B[39;00m\u001B[38;5;250m \u001B[39m\u001B[34mrectangle\u001B[39m(\u001B[38;5;28mself\u001B[39m):\n\u001B[32m    325\u001B[39m \u001B[38;5;250m    \u001B[39m\u001B[33;03m\"\"\"Return rectangle of the element\"\"\"\u001B[39;00m\n\u001B[32m--> \u001B[39m\u001B[32m326\u001B[39m     bound_rect = \u001B[38;5;28;43mself\u001B[39;49m\u001B[43m.\u001B[49m\u001B[43m_element\u001B[49m\u001B[43m.\u001B[49m\u001B[43mCurrentBoundingRectangle\u001B[49m\n\u001B[32m    327\u001B[39m     rect = RECT()\n\u001B[32m    328\u001B[39m     rect.left = bound_rect.left\n",
      "\u001B[31mCOMError\u001B[39m: (-2147220991, 'Событие не смогло вызвать ни одного из абонентов', (None, None, None, 0, None))"
     ]
    }
   ],
   "execution_count": 87
  },
  {
   "metadata": {
    "ExecuteTime": {
     "end_time": "2025-04-13T17:38:40.285132Z",
     "start_time": "2025-04-13T17:38:40.238220Z"
    }
   },
   "cell_type": "code",
   "source": [
    "app = Application(backend='uia').start(r\"C:\\\\Program Files (x86)\\Micromeritics\\MicroActive\\microactive.exe\")\n",
    "dlg = app.window(best_match='MicroActive Version 7.00')"
   ],
   "id": "b42a50a82aa7bc5",
   "outputs": [],
   "execution_count": 3
  },
  {
   "metadata": {
    "ExecuteTime": {
     "end_time": "2025-04-13T17:38:56.756579Z",
     "start_time": "2025-04-13T17:38:55.006344Z"
    }
   },
   "cell_type": "code",
   "source": "dlg.menu_select(\"File->Convert\")",
   "id": "595ecc6c05575ba4",
   "outputs": [],
   "execution_count": 4
  },
  {
   "metadata": {},
   "cell_type": "code",
   "outputs": [],
   "execution_count": null,
   "source": "",
   "id": "67e51bd1d5c015c0"
  }
 ],
 "metadata": {
  "kernelspec": {
   "display_name": "Python 3",
   "language": "python",
   "name": "python3"
  },
  "language_info": {
   "codemirror_mode": {
    "name": "ipython",
    "version": 2
   },
   "file_extension": ".py",
   "mimetype": "text/x-python",
   "name": "python",
   "nbconvert_exporter": "python",
   "pygments_lexer": "ipython2",
   "version": "2.7.6"
  }
 },
 "nbformat": 4,
 "nbformat_minor": 5
}
