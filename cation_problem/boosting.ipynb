{
 "cells": [
  {
   "cell_type": "code",
   "execution_count": null,
   "id": "initial_id",
   "metadata": {
    "collapsed": true
   },
   "outputs": [],
   "source": "from xgboost import XGBRegressor"
  },
  {
   "metadata": {},
   "cell_type": "code",
   "outputs": [],
   "execution_count": null,
   "source": [
    "from xgboost import XGBRegressor\n",
    "bst = XGBRegressor(tree_method='hist')\n",
    "bst_features = features_train.drop(\"name\", axis=1)\n",
    "bst_features = bst_features.drop(\"Al\", axis=1)\n",
    "bst_features = bst_features.drop(\"Si\", axis=1)\n",
    "bst.fit(bst_features, labels_train)"
   ],
   "id": "19eb52d265570ae6"
  },
  {
   "metadata": {},
   "cell_type": "code",
   "outputs": [],
   "execution_count": null,
   "source": [
    "bst_features_test = features_test.drop(\"name\", axis=1)\n",
    "bst_features_test = bst_features_test.drop(\"Al\", axis=1)\n",
    "bst_features_test = bst_features_test.drop(\"Si\", axis=1)\n",
    "bst_prediction = bst.predict(bst_features_test)\n",
    "metrics.r2_score(y_true=labels_test, y_pred=bst_prediction)"
   ],
   "id": "e638a8f669c17895"
  }
 ],
 "metadata": {
  "kernelspec": {
   "display_name": "Python 3",
   "language": "python",
   "name": "python3"
  },
  "language_info": {
   "codemirror_mode": {
    "name": "ipython",
    "version": 2
   },
   "file_extension": ".py",
   "mimetype": "text/x-python",
   "name": "python",
   "nbconvert_exporter": "python",
   "pygments_lexer": "ipython2",
   "version": "2.7.6"
  }
 },
 "nbformat": 4,
 "nbformat_minor": 5
}
