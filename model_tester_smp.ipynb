{
 "cells": [
  {
   "cell_type": "code",
   "id": "initial_id",
   "metadata": {
    "collapsed": true,
    "ExecuteTime": {
     "end_time": "2025-04-20T11:02:24.074625Z",
     "start_time": "2025-04-20T11:02:21.001157Z"
    }
   },
   "source": [
    "import random\n",
    "\n",
    "import numpy as np\n",
    "import tensorflow.compat.v1 as tf\n",
    "import matplotlib.pyplot as plt\n",
    "import pandas as pd\n",
    "from tensorflow.keras import layers, Sequential, Input\n",
    "from sklearn.model_selection import train_test_split\n",
    "from generator import Generator\n",
    "from keras import metrics\n",
    "import importlib\n",
    "import inverse\n",
    "from matplotlib.ticker import PercentFormatter\n",
    "from inverse import fit_linear\n",
    "\n",
    "def custom_loss(y_true, y_pred):\n",
    "    pass\n",
    "class ConstrainedOutputLayer(tf.keras.layers.Layer):\n",
    "    def __init__(self, M=None, weight=10, **kwargs):\n",
    "        super(ConstrainedOutputLayer, self).__init__(**kwargs)\n",
    "        # Initialize M as None to handle custom initialization in from_config\n",
    "        if M is not None:\n",
    "            self.M = tf.constant(M, dtype=tf.float32)\n",
    "        else:\n",
    "            self.M = None  # Will be set later during call or from_config\n",
    "        self.weight = weight\n",
    "\n",
    "    def call(self, y_out, x_in):\n",
    "        if self.M is None:\n",
    "            raise ValueError(\"Matrix M must be initialized.\")\n",
    "        # Apply the constraint logic\n",
    "        constraint = tf.matmul(y_out, self.M) - x_in\n",
    "        self.add_loss(self.weight * tf.reduce_mean(tf.square(constraint)))\n",
    "        return y_out\n",
    "\n",
    "    def get_config(self):\n",
    "        # Get the base config and update it with custom arguments\n",
    "        config = super(ConstrainedOutputLayer, self).get_config()\n",
    "        # Serialize M as a list, and weight as is\n",
    "        config.update({\n",
    "            'M': self.M.numpy().tolist() if self.M is not None else None,\n",
    "            'weight': self.weight\n",
    "        })\n",
    "        return config\n",
    "\n",
    "    @classmethod\n",
    "    def from_config(cls, config):\n",
    "        # Reconstruct the layer from the config\n",
    "        M = tf.constant(config['M'], dtype=tf.float32) if config['M'] is not None else None\n",
    "        weight = config['weight']\n",
    "        return cls(M=M, weight=weight)\n"
   ],
   "outputs": [],
   "execution_count": 1
  },
  {
   "metadata": {
    "ExecuteTime": {
     "end_time": "2025-04-20T14:09:39.961653Z",
     "start_time": "2025-04-20T14:09:39.768954Z"
    }
   },
   "cell_type": "code",
   "source": [
    "model = tf.keras.models.load_model('data/models/silica_CNN_cut_isotherm_smp2.keras', custom_objects={'abs': tf.math.abs, 'custom_loss': custom_loss,\n",
    "                                                                                                        'ConstrainedOutputLayer': ConstrainedOutputLayer})"
   ],
   "id": "7f117765f48dbb9c",
   "outputs": [],
   "execution_count": 244
  },
  {
   "metadata": {
    "ExecuteTime": {
     "end_time": "2025-04-20T14:09:40.830761Z",
     "start_time": "2025-04-20T14:09:40.824761Z"
    }
   },
   "cell_type": "code",
   "source": [
    "pressures = np.load(\"data/initial kernels/Pressure_Silica.npy\")[:-10]\n",
    "pore_widths = np.load(\"data/initial kernels/Size_Kernel_Silica_Adsorption.npy\")\n",
    "kernel = np.load(\"data/initial kernels/Kernel_Silica_Adsorption.npy\")"
   ],
   "id": "b12776eea91268de",
   "outputs": [],
   "execution_count": 245
  },
  {
   "metadata": {
    "ExecuteTime": {
     "end_time": "2025-04-20T14:09:41.171326Z",
     "start_time": "2025-04-20T14:09:41.109322Z"
    }
   },
   "cell_type": "code",
   "source": [
    "test_dataset = np.load(f'data/datasets/SMP_test_2.npz')\n",
    "x_test = test_dataset['x_test']\n",
    "y_test = test_dataset['y_test']"
   ],
   "id": "805b4f09be91b602",
   "outputs": [],
   "execution_count": 246
  },
  {
   "metadata": {
    "ExecuteTime": {
     "end_time": "2025-04-20T14:09:42.361198Z",
     "start_time": "2025-04-20T14:09:41.921170Z"
    }
   },
   "cell_type": "code",
   "source": "prediction = model.predict(np.array(x_test))",
   "id": "56a570505f5cd062",
   "outputs": [
    {
     "name": "stdout",
     "output_type": "stream",
     "text": [
      "107/107 [==============================] - 0s 2ms/step\n"
     ]
    }
   ],
   "execution_count": 247
  },
  {
   "metadata": {
    "ExecuteTime": {
     "end_time": "2025-04-20T13:05:28.416364Z",
     "start_time": "2025-04-20T13:05:26.001316Z"
    }
   },
   "cell_type": "code",
   "source": [
    "i = random.randint(0, len(x_test))\n",
    "plt.plot(pore_widths, prediction[i], marker='o', label='Predicted')\n",
    "plt.plot(pore_widths, y_test[i], marker='o', label='True')\n",
    "psd = fit_linear(adsorption=x_test[i], kernel=kernel[:, :-10], alpha=0).x\n",
    "plt.plot(pore_widths, psd, marker='o', label='psd')\n",
    "plt.gray()\n",
    "plt.legend()\n",
    "plt.show()"
   ],
   "id": "ed789948f0d7048a",
   "outputs": [],
   "execution_count": 219
  },
  {
   "metadata": {
    "ExecuteTime": {
     "end_time": "2025-04-20T13:05:30.675317Z",
     "start_time": "2025-04-20T13:05:29.199834Z"
    }
   },
   "cell_type": "code",
   "source": [
    "#i = random.randint(0, len(x_test))\n",
    "plt.plot(pressures, np.array(x_test[i]), marker='o', label='True')\n",
    "plt.plot(pressures, np.dot(kernel.T, prediction[i])[:-10], marker='o', label='Predicted')\n",
    "plt.plot(pressures, np.dot(kernel.T[:-10], y_test[i]), marker='o', label='math')\n",
    "plt.gray()\n",
    "plt.legend()\n",
    "plt.show()\n",
    "print(i)"
   ],
   "id": "a7a67209243579ba",
   "outputs": [
    {
     "name": "stdout",
     "output_type": "stream",
     "text": [
      "672\n"
     ]
    }
   ],
   "execution_count": 220
  },
  {
   "metadata": {
    "ExecuteTime": {
     "end_time": "2025-04-20T14:09:47.223303Z",
     "start_time": "2025-04-20T14:09:47.208468Z"
    }
   },
   "cell_type": "code",
   "source": [
    "def calculate_error(isotherm_real, restored_isotherm):\n",
    "    defined_error = 0\n",
    "    iso_len = 0\n",
    "    for i in range(len(restored_isotherm)):\n",
    "        if isotherm_real[i] != 0:\n",
    "            defined_error += np.abs((isotherm_real[i] - restored_isotherm[i])/isotherm_real[i])\n",
    "            iso_len += 1\n",
    "    if iso_len == 0:\n",
    "        return 0\n",
    "    return defined_error / iso_len\n",
    "\n",
    "def calculate_roughness(psd):\n",
    "    return np.linalg.norm(np.diff(psd), ord=2)"
   ],
   "id": "a51f2f0f2e3db91b",
   "outputs": [],
   "execution_count": 248
  },
  {
   "metadata": {
    "ExecuteTime": {
     "end_time": "2025-04-20T14:09:48.437999Z",
     "start_time": "2025-04-20T14:09:47.828575Z"
    }
   },
   "cell_type": "code",
   "source": [
    "model2 = tf.keras.models.load_model('data/models/silica_CNN_cut_isotherm.keras', custom_objects={'abs': tf.math.abs, 'custom_loss': custom_loss,\n",
    "                                                                                                        'ConstrainedOutputLayer': ConstrainedOutputLayer})\n",
    "prediction2 = model2.predict(np.array(x_test))"
   ],
   "id": "c1fb0ca1e8d93b2b",
   "outputs": [
    {
     "name": "stdout",
     "output_type": "stream",
     "text": [
      "107/107 [==============================] - 0s 2ms/step\n"
     ]
    }
   ],
   "execution_count": 249
  },
  {
   "metadata": {
    "ExecuteTime": {
     "end_time": "2025-04-20T14:20:58.587405Z",
     "start_time": "2025-04-20T14:20:52.220717Z"
    }
   },
   "cell_type": "code",
   "source": [
    "error_math = []\n",
    "roughness_math = []\n",
    "\n",
    "error_lst = []\n",
    "roughness_lst = []\n",
    "\n",
    "error_lst2 = []\n",
    "roughness_lst2 = []\n",
    "\n",
    "for i in range(len(prediction)):\n",
    "    restored_isotherm = np.dot(kernel.T[:-10], prediction[i])\n",
    "    error_lst.append(calculate_error(restored_isotherm, np.array(x_test[i]))*100)\n",
    "    roughness_lst.append(calculate_roughness(prediction[i]))\n",
    "\n",
    "    restored_isotherm = np.dot(kernel.T[:-10], prediction2[i])\n",
    "    error_lst2.append(calculate_error(restored_isotherm, np.array(x_test[i]))*100)\n",
    "    roughness_lst2.append(calculate_roughness(prediction2[i]))\n",
    "\n",
    "    restored_isotherm_math = np.dot(kernel.T[:-10], y_test[i])\n",
    "    error_math.append(calculate_error(restored_isotherm_math, np.array(x_test[i]))*100)\n",
    "    roughness_math.append(calculate_roughness(y_test[i]))"
   ],
   "id": "1a25c9f9ed97d5aa",
   "outputs": [],
   "execution_count": 252
  },
  {
   "metadata": {
    "ExecuteTime": {
     "end_time": "2025-04-21T04:26:31.132865Z",
     "start_time": "2025-04-21T04:23:19.934731Z"
    }
   },
   "cell_type": "code",
   "source": [
    "import numpy as np\n",
    "import matplotlib.pyplot as plt\n",
    "from scipy.stats import gaussian_kde\n",
    "\n",
    "\n",
    "x = np.linspace(0, 60, 1000)\n",
    "\n",
    "kde_error= gaussian_kde(error_lst)\n",
    "kde_error2= gaussian_kde(error_lst2)\n",
    "kde_math = gaussian_kde(error_math)\n",
    "\n",
    "plt.plot(x, kde_error(x), label='Модель на основе экспериментальных изотерм', color='red')\n",
    "plt.plot(x, kde_error2(x), label='Модель на основе искусственных распределений', color='orange')\n",
    "#plt.scatter(error_lst, kde_error(error_lst), color='red')\n",
    "\n",
    "plt.plot(x, kde_math(x), label='Метод NLDFT без регуляризации', color='blue')\n",
    "#plt.scatter(error_math, kde_math(error_math), color='blue')\n",
    "\n",
    "plt.legend(loc='upper right')\n",
    "plt.xlabel(\"Ошибка описания изотермы %\")\n",
    "plt.title(\"Распределения ошибок моделей (PDF)\")\n",
    "plt.xlim(8, 60)\n",
    "plt.grid()\n",
    "plt.show()"
   ],
   "id": "6a7e6c6f66aa3f46",
   "outputs": [],
   "execution_count": 262
  },
  {
   "metadata": {
    "ExecuteTime": {
     "end_time": "2025-04-20T16:33:23.742780Z",
     "start_time": "2025-04-20T16:19:47.681876Z"
    }
   },
   "cell_type": "code",
   "source": [
    "x = np.linspace(0, 100, 1000)\n",
    "\n",
    "kde_model= gaussian_kde(roughness_lst)\n",
    "kde_math = gaussian_kde(roughness_math)\n",
    "\n",
    "plt.plot(x, kde_model(x), label='Roughness model', color='red')\n",
    "#plt.scatter(roughness_lst, kde_model(roughness_lst), color='red')\n",
    "\n",
    "plt.plot(x, kde_math(x), label='Roughness math', color='blue')\n",
    "#plt.scatter(roughness_math, kde_math(roughness_math), color='blue')\n",
    "\n",
    "plt.legend(loc='upper right')\n",
    "plt.xlabel(\"Roughness\")\n",
    "plt.title(\"Roughness (PDF)\")\n",
    "plt.grid()\n",
    "plt.show()"
   ],
   "id": "bf3c5517e1320c7f",
   "outputs": [],
   "execution_count": 256
  },
  {
   "metadata": {
    "ExecuteTime": {
     "end_time": "2025-04-16T10:50:46.136276Z",
     "start_time": "2025-04-16T10:50:46.134409Z"
    }
   },
   "cell_type": "code",
   "source": "",
   "id": "e3889c2f82ceb6f3",
   "outputs": [],
   "execution_count": null
  },
  {
   "metadata": {
    "ExecuteTime": {
     "end_time": "2025-04-16T10:50:47.990539Z",
     "start_time": "2025-04-16T10:50:46.182026Z"
    }
   },
   "cell_type": "code",
   "source": [
    "error_min = min(error_math)\n",
    "roughness_min = min(roughness_math)\n",
    "error_max = max(error_math)\n",
    "roughness_max = max(roughness_math)\n",
    "\n",
    "\n",
    "X, Y = np.mgrid[error_min:error_max:300j, roughness_min:roughness_max:300j]\n",
    "positions = np.vstack([X.ravel(), Y.ravel()])\n",
    "values = np.vstack([error_math, roughness_math])\n",
    "kde = gaussian_kde(values)\n",
    "Z = np.reshape(kde(positions).T, X.shape)\n",
    "\n",
    "fig, ax = plt.subplots()\n",
    "ax.imshow(np.rot90(Z), extent=[error_min, error_max, roughness_min, roughness_max], aspect='auto')\n",
    "ax.plot(error_math, roughness_math, 'k.', markersize=3)\n",
    "ax.set_xlim([error_min, error_max])\n",
    "ax.set_ylim([roughness_min, roughness_max])\n",
    "plt.xlabel(\"error %\")\n",
    "plt.ylabel(\"roughness\")\n",
    "plt.show()"
   ],
   "id": "931890b9f5d756dd",
   "outputs": [],
   "execution_count": 76
  },
  {
   "metadata": {
    "ExecuteTime": {
     "end_time": "2025-04-16T10:50:49.158168Z",
     "start_time": "2025-04-16T10:50:48.042458Z"
    }
   },
   "cell_type": "code",
   "source": [
    "fig = plt.figure()\n",
    "ax = plt.axes(projection='3d')\n",
    "ax.plot_surface(X, Y, Z, edgecolor='royalblue', lw=0.5, rstride=8, cstride=8,\n",
    "                alpha=0.3, cmap=\"hsv\")\n",
    "ax.set_xlabel('error %')\n",
    "ax.set_ylabel('roughness')\n",
    "plt.show()"
   ],
   "id": "7b45a28f24a50f4e",
   "outputs": [],
   "execution_count": 77
  },
  {
   "metadata": {
    "ExecuteTime": {
     "end_time": "2025-04-16T10:50:49.202025Z",
     "start_time": "2025-04-16T10:50:49.200179Z"
    }
   },
   "cell_type": "code",
   "source": "",
   "id": "a89e3de2dc30e8a3",
   "outputs": [],
   "execution_count": null
  }
 ],
 "metadata": {
  "kernelspec": {
   "display_name": "Python 3",
   "language": "python",
   "name": "python3"
  },
  "language_info": {
   "codemirror_mode": {
    "name": "ipython",
    "version": 2
   },
   "file_extension": ".py",
   "mimetype": "text/x-python",
   "name": "python",
   "nbconvert_exporter": "python",
   "pygments_lexer": "ipython2",
   "version": "2.7.6"
  }
 },
 "nbformat": 4,
 "nbformat_minor": 5
}
