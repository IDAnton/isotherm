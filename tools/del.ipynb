{
 "cells": [
  {
   "cell_type": "code",
   "id": "initial_id",
   "metadata": {
    "collapsed": true,
    "ExecuteTime": {
     "end_time": "2025-04-18T17:53:33.753389Z",
     "start_time": "2025-04-18T17:53:33.680505Z"
    }
   },
   "source": [
    "import numpy as np\n",
    "import matplotlib.pyplot as plt\n",
    "%matplotlib qt"
   ],
   "outputs": [],
   "execution_count": 14
  },
  {
   "metadata": {
    "ExecuteTime": {
     "end_time": "2025-04-18T17:53:36.060927Z",
     "start_time": "2025-04-18T17:53:36.047801Z"
    }
   },
   "cell_type": "code",
   "source": [
    "def plot():\n",
    "    plt.legend()\n",
    "    plt.grid(True)\n",
    "    plt.show()\n",
    "\n",
    "data = np.load(\"../data/datasets/SMP_CUT_ALL_KERNEL.npz\")\n",
    "data_all = np.load(\"../data/datasets/SMP_CUT_NOT_ZERO.npz\")\n",
    "pore_widths = np.load(\"../data/initial kernels/Size_Kernel_Silica_Adsorption.npy\")\n",
    "pressures = np.load(\"../data/initial kernels/Pressure_Silica.npy\")[:-10]"
   ],
   "id": "46dd2baca269ef6e",
   "outputs": [],
   "execution_count": 15
  },
  {
   "metadata": {
    "ExecuteTime": {
     "end_time": "2025-04-18T17:53:36.481249Z",
     "start_time": "2025-04-18T17:53:36.393197Z"
    }
   },
   "cell_type": "code",
   "source": [
    "isotherms = data[\"isotherm_data\"]\n",
    "psd = data[\"pore_distribution_data\"]\n",
    "\n",
    "isotherms_all = data_all[\"isotherm_data\"]\n",
    "psd_all = data_all[\"pore_distribution_data\"]"
   ],
   "id": "fdf5d951bfa1b0e4",
   "outputs": [],
   "execution_count": 16
  },
  {
   "metadata": {
    "ExecuteTime": {
     "end_time": "2025-04-18T17:55:10.053340Z",
     "start_time": "2025-04-18T17:55:10.037708Z"
    }
   },
   "cell_type": "code",
   "source": "i = np.random.randint(isotherms.shape[0])",
   "id": "282f57d3bf38385b",
   "outputs": [],
   "execution_count": 35
  },
  {
   "metadata": {
    "ExecuteTime": {
     "end_time": "2025-04-18T17:55:10.287182Z",
     "start_time": "2025-04-18T17:55:10.243728Z"
    }
   },
   "cell_type": "code",
   "source": [
    "plt.plot(pressures, isotherms[i], marker='*', label=f\"ZERO{i}\")\n",
    "\n",
    "plot()"
   ],
   "id": "9949f30660b73ee3",
   "outputs": [],
   "execution_count": 36
  },
  {
   "metadata": {
    "ExecuteTime": {
     "end_time": "2025-04-18T17:55:12.314714Z",
     "start_time": "2025-04-18T17:55:12.267181Z"
    }
   },
   "cell_type": "code",
   "source": [
    "plt.plot(pore_widths, psd[i], marker='.', label=f\"ZERO {i}\")\n",
    "\n",
    "plot()"
   ],
   "id": "fcc0873abf986760",
   "outputs": [],
   "execution_count": 37
  },
  {
   "metadata": {
    "ExecuteTime": {
     "end_time": "2025-04-18T12:04:27.214683Z",
     "start_time": "2025-04-18T12:04:27.203180Z"
    }
   },
   "cell_type": "code",
   "source": "sum(psd_all[i][:-1] * (pore_widths[1:] - pore_widths[:-1]))",
   "id": "52142990ab8c7add",
   "outputs": [
    {
     "data": {
      "text/plain": [
       "39.48890131362065"
      ]
     },
     "execution_count": 229,
     "metadata": {},
     "output_type": "execute_result"
    }
   ],
   "execution_count": 229
  },
  {
   "metadata": {
    "ExecuteTime": {
     "end_time": "2025-04-18T12:04:27.668176Z",
     "start_time": "2025-04-18T12:04:27.652544Z"
    }
   },
   "cell_type": "code",
   "source": "sum(psd[i][:-1] * (pore_widths[1:] - pore_widths[:-1]))",
   "id": "55a9a69848d1fb8c",
   "outputs": [
    {
     "data": {
      "text/plain": [
       "88.97548933567106"
      ]
     },
     "execution_count": 230,
     "metadata": {},
     "output_type": "execute_result"
    }
   ],
   "execution_count": 230
  },
  {
   "metadata": {},
   "cell_type": "code",
   "outputs": [],
   "execution_count": null,
   "source": "",
   "id": "9be36d0ecedad144"
  }
 ],
 "metadata": {
  "kernelspec": {
   "display_name": "Python 3",
   "language": "python",
   "name": "python3"
  },
  "language_info": {
   "codemirror_mode": {
    "name": "ipython",
    "version": 2
   },
   "file_extension": ".py",
   "mimetype": "text/x-python",
   "name": "python",
   "nbconvert_exporter": "python",
   "pygments_lexer": "ipython2",
   "version": "2.7.6"
  }
 },
 "nbformat": 4,
 "nbformat_minor": 5
}
