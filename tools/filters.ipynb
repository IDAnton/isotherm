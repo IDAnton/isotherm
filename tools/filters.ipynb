{
 "cells": [
  {
   "cell_type": "code",
   "id": "initial_id",
   "metadata": {
    "collapsed": true,
    "ExecuteTime": {
     "end_time": "2025-07-10T07:14:21.694971Z",
     "start_time": "2025-07-10T07:14:21.218179Z"
    }
   },
   "source": [
    "import numpy as np\n",
    "import matplotlib \n",
    "matplotlib.use('Qt5Agg') \n",
    "import matplotlib.pyplot as plt\n",
    "import random\n",
    "import re\n",
    "\n",
    "from os import listdir\n",
    "from os.path import isfile, join\n",
    "from itertools import filterfalse"
   ],
   "outputs": [],
   "execution_count": 1
  },
  {
   "cell_type": "code",
   "source": [
    "def read_qps(file_path: str, file_name: str):\n",
    "    pressures = []\n",
    "    volumes = []\n",
    "    pattern = re.compile(r\"^\\s*([-+]?\\d+\\.\\d+(?:e[-+]?\\d+)?)\\s+([-+]?\\d+\\.\\d+)\\s*$\", re.IGNORECASE)\n",
    "    with open(file_path, 'r') as file:\n",
    "        for line in file:\n",
    "            if line.startswith(\"Analysis gas:\"):\n",
    "                if line.strip().split()[2] not in [\"Nitrogen\", \"N2\"]:\n",
    "                    return None\n",
    "\n",
    "            match = pattern.match(line)\n",
    "            if match:\n",
    "                pressure = float(match.group(1))\n",
    "                volume = float(match.group(2))\n",
    "                pressures.append(pressure)\n",
    "                volumes.append(volume)\n",
    "    \n",
    "    pressures = np.array(pressures)\n",
    "    volumes = np.array(volumes)\n",
    "    return [pressures, volumes, file_name]\n",
    "\n",
    "def separate_branches(iso):\n",
    "    pressure = iso[0]\n",
    "    volume = iso[1]\n",
    "    max_p_idx = np.where(pressure == max(pressure))[0][0]\n",
    "    isotherm = {\"adsorption_p\": pressure[:max_p_idx+1], \"adsorption\": volume[:max_p_idx+1],\n",
    "                \"desorption_p\": pressure[max_p_idx:][::-1], \"desorption\": volume[max_p_idx:][::-1], \"file_name\": iso[2]}\n",
    "    return isotherm\n",
    "    \n",
    "data_path = \"../data/tmp\"\n",
    "file_names = [f for f in listdir(data_path) if isfile(join(data_path, f))]\n",
    "data = [read_qps(join(data_path, f), f) for f in file_names]\n",
    "data = [d for d in data if d != None]\n",
    "isotherms = [separate_branches(d) for d in data if len(d[0]) != 0]\n",
    "print(len(isotherms))"
   ],
   "metadata": {
    "collapsed": false,
    "ExecuteTime": {
     "end_time": "2025-07-10T07:14:48.117077Z",
     "start_time": "2025-07-10T07:14:21.698971Z"
    }
   },
   "id": "c6fc77bf9b927f4a",
   "outputs": [
    {
     "name": "stdout",
     "output_type": "stream",
     "text": [
      "4676\n"
     ]
    }
   ],
   "execution_count": 2
  },
  {
   "cell_type": "code",
   "source": [
    "def filter_number_of_points(isotherm, min_number_of_points=10):\n",
    "    if len(isotherm[\"adsorption_p\"]) <= min_number_of_points:\n",
    "        return False\n",
    "    return True\n",
    "\n",
    "def filter_pressure_fall(isotherm):\n",
    "    for i in range(len(isotherm[\"adsorption_p\"])-1):\n",
    "        if isotherm[\"adsorption_p\"][i] >= isotherm[\"adsorption_p\"][i+1]:\n",
    "            return False\n",
    "    return True\n",
    "\n",
    "def filter_adsorption_fall(isotherm):\n",
    "    for i in range(len(isotherm[\"adsorption_p\"])-1):\n",
    "        if isotherm[\"adsorption\"][i+1]/isotherm[\"adsorption\"][i] < 1:\n",
    "            return False\n",
    "    return True"
   ],
   "metadata": {
    "collapsed": false,
    "ExecuteTime": {
     "end_time": "2025-07-10T07:15:04.714124Z",
     "start_time": "2025-07-10T07:15:04.703626Z"
    }
   },
   "id": "bb086d3df99d66d8",
   "outputs": [],
   "execution_count": 3
  },
  {
   "cell_type": "code",
   "source": [
    "filters = [filter_number_of_points, filter_pressure_fall, filter_adsorption_fall]\n",
    "clean_data = isotherms.copy()\n",
    "for f in filters:\n",
    "    print(f\"{f.__name__} : {len(list(filterfalse(f, clean_data)))}\")\n",
    "    clean_data = list(filter(f, clean_data))\n",
    "print(f\"{len(isotherms)} ==FILTERS==> {len(clean_data)}\")"
   ],
   "metadata": {
    "collapsed": false,
    "ExecuteTime": {
     "end_time": "2025-07-10T07:15:06.648529Z",
     "start_time": "2025-07-10T07:15:06.539529Z"
    }
   },
   "id": "adb04ca1bbc31e3e",
   "outputs": [
    {
     "name": "stdout",
     "output_type": "stream",
     "text": [
      "filter_number_of_points : 92\n",
      "filter_pressure_fall : 1061\n",
      "filter_adsorption_fall : 444\n",
      "4676 ==FILTERS==> 3079\n"
     ]
    }
   ],
   "execution_count": 4
  },
  {
   "cell_type": "code",
   "source": [
    "def plot_isotherm(isotherm):\n",
    "    plt.plot(isotherm[\"adsorption_p\"], isotherm[\"adsorption\"], marker=\".\")\n",
    "    plt.plot(isotherm[\"desorption_p\"], isotherm[\"desorption\"], marker=\".\")\n",
    "    plt.show()\n",
    "\n",
    "i = random.randint(0, len(clean_data)-1)\n",
    "plot_isotherm(clean_data[i])"
   ],
   "metadata": {
    "collapsed": false,
    "ExecuteTime": {
     "end_time": "2025-07-10T07:15:14.088646Z",
     "start_time": "2025-07-10T07:15:08.658928Z"
    }
   },
   "id": "3f9d446b6289f279",
   "outputs": [],
   "execution_count": 5
  },
  {
   "metadata": {},
   "cell_type": "code",
   "outputs": [],
   "execution_count": null,
   "source": "",
   "id": "e0eca93766dae17"
  },
  {
   "cell_type": "code",
   "source": [
    "from inverse import fit_linear\n",
    "def cut_distribution(pore_distribution_data, pressure, pore_widths, pore_size_cut_grid, pressure_cut_grid):\n",
    "    pore_cut_size = pore_size_cut_grid[-1]\n",
    "    start_pressure = pressure[0]\n",
    "    for i in range(len(pressure_cut_grid)-1):\n",
    "        if pressure_cut_grid[i] <= start_pressure < pressure_cut_grid[i+1]:\n",
    "            pore_cut_size = pore_size_cut_grid[i]\n",
    "\n",
    "\n",
    "    for i in range(len(pore_widths)):\n",
    "        if pore_widths[i] < pore_cut_size:\n",
    "            pore_distribution_data[i] = 0\n",
    "        else:\n",
    "            break\n",
    "    return pore_distribution_data\n",
    "\n",
    "\n",
    "def find_nearest_idx(array, value):\n",
    "    array = np.asarray(array)\n",
    "    idx = (np.abs(array - value)).argmin()\n",
    "    return idx\n",
    "\n",
    "isotherm_data = []\n",
    "pore_distribution_data = []\n",
    "\n",
    "pressures = np.load(\"../data/initial kernels/Pressure_Silica.npy\")\n",
    "kernel = np.load(\"../data/initial kernels/Kernel_Silica_Adsorption.npy\")[:, :-10]\n",
    "pore_widths = np.load(\"../data/initial kernels/Size_Kernel_Silica_Adsorption.npy\")\n",
    "\n",
    "pore_size_cut_grid = np.array([0.863, 0.863, 0.902, 0.982, 1.061, 1.061, 1.061, 1.167,\n",
    "                                       1.220, 1.220, 1.220, 1.273, 1.379, 1.432, 1.432, 1.564])\n",
    "pressure_cut_grid = np.array([1e-7, 1e-6, 5e-6, 1e-5, 5e-5, 1e-4, 2e-4, 4e-4,\n",
    "                                      6e-4, 8e-4, 1e-3, 2e-3, 4e-3, 6e-3, 8e-3, 1e-2])\n",
    "for i, isotherm in enumerate(clean_data):\n",
    "    start_p = find_nearest_idx(pressures[:-10], isotherm['adsorption_p'][0])\n",
    "    isotherm_data.append(np.interp(pressures[:-10], isotherm['adsorption_p'], isotherm['adsorption']))\n",
    "    isotherm_data[i][:start_p] = np.zeros(start_p)\n",
    "\n",
    "    scale = max(isotherm_data[i])\n",
    "    isotherm_data[i] = isotherm_data[i] / scale\n",
    "\n",
    "    pore_distribution = fit_linear(adsorption=isotherm_data[i], kernel=kernel, alpha=0).x\n",
    "    pore_distribution_data.append(cut_distribution(pore_distribution, isotherm['adsorption_p'], pore_widths,\n",
    "                                                         pore_size_cut_grid, pressure_cut_grid))\n"
   ],
   "metadata": {
    "collapsed": false,
    "ExecuteTime": {
     "end_time": "2025-07-10T07:21:27.652995Z",
     "start_time": "2025-07-10T07:15:22.657452Z"
    }
   },
   "id": "72f5ace6be0264f",
   "outputs": [],
   "execution_count": 6
  },
  {
   "metadata": {
    "ExecuteTime": {
     "end_time": "2025-07-10T07:29:44.607614Z",
     "start_time": "2025-07-10T07:29:43.547026Z"
    }
   },
   "cell_type": "code",
   "source": [
    "from datasetLoader import load_dataset\n",
    "\n",
    "x_exp, y_exp = load_dataset('../data/datasets/SMP_CUT_ALL_KERNEL.npz')"
   ],
   "id": "54010a681ea7976a",
   "outputs": [],
   "execution_count": 7
  },
  {
   "metadata": {
    "ExecuteTime": {
     "end_time": "2025-07-10T07:29:44.623593Z",
     "start_time": "2025-07-10T07:29:44.610603Z"
    }
   },
   "cell_type": "code",
   "source": "isotherm_data = np.array(isotherm_data)",
   "id": "9f2886e293f9ece2",
   "outputs": [],
   "execution_count": 8
  },
  {
   "metadata": {
    "ExecuteTime": {
     "end_time": "2025-07-10T07:29:45.357175Z",
     "start_time": "2025-07-10T07:29:45.327169Z"
    }
   },
   "cell_type": "code",
   "source": [
    "x = np.concatenate((x_exp, isotherm_data))\n",
    "y = np.concatenate((y_exp, pore_distribution_data))"
   ],
   "id": "67ab10b82d3ad07f",
   "outputs": [],
   "execution_count": 9
  },
  {
   "metadata": {
    "ExecuteTime": {
     "end_time": "2025-07-10T07:29:50.157302Z",
     "start_time": "2025-07-10T07:29:47.041419Z"
    }
   },
   "cell_type": "code",
   "source": [
    "with open(\"../data/datasets/exp.npz\", \"wb\") as f:\n",
    "    np.savez_compressed(\"../data/datasets/exp.npz\", isotherm_data=x,\n",
    "                            pore_distribution_data=y)"
   ],
   "id": "8796321918cb134c",
   "outputs": [],
   "execution_count": 10
  },
  {
   "cell_type": "code",
   "source": [
    "volume_issues = list(filterfalse(filter_adsorption_fall, isotherms))\n",
    "i = random.randint(0, len(volume_issues)-1)\n",
    "plot_isotherm(volume_issues[i])"
   ],
   "metadata": {
    "collapsed": false,
    "ExecuteTime": {
     "end_time": "2025-07-08T05:18:37.214308Z",
     "start_time": "2025-07-08T05:18:33.916443Z"
    }
   },
   "id": "c8cbb5ab1d2f3b56",
   "outputs": [],
   "execution_count": 45
  },
  {
   "cell_type": "code",
   "outputs": [
    {
     "data": {
      "text/plain": "73"
     },
     "execution_count": 90,
     "metadata": {},
     "output_type": "execute_result"
    }
   ],
   "source": [
    "i"
   ],
   "metadata": {
    "collapsed": false,
    "ExecuteTime": {
     "end_time": "2024-11-04T13:20:06.809802Z",
     "start_time": "2024-11-04T13:20:06.803802Z"
    }
   },
   "id": "eed57efd1c19de24",
   "execution_count": 90
  },
  {
   "cell_type": "code",
   "outputs": [],
   "source": [],
   "metadata": {
    "collapsed": false,
    "ExecuteTime": {
     "end_time": "2024-11-04T13:10:40.824816Z",
     "start_time": "2024-11-04T13:10:40.822816Z"
    }
   },
   "id": "4ca71d5152f81c46",
   "execution_count": 68
  },
  {
   "cell_type": "code",
   "outputs": [
    {
     "data": {
      "text/plain": "1"
     },
     "execution_count": 69,
     "metadata": {},
     "output_type": "execute_result"
    }
   ],
   "source": [
    "i"
   ],
   "metadata": {
    "collapsed": false,
    "ExecuteTime": {
     "end_time": "2024-11-04T13:10:40.833816Z",
     "start_time": "2024-11-04T13:10:40.826818Z"
    }
   },
   "id": "6779bac8770f088f",
   "execution_count": 69
  },
  {
   "cell_type": "code",
   "outputs": [],
   "source": [
    "def pressure_corrector(isotherm):\n",
    "    i = 0\n",
    "    while i < len(isotherm[\"adsorption_p\"])-1:\n",
    "        if isotherm[\"adsorption_p\"][i] >= isotherm[\"adsorption_p\"][i+1]:\n",
    "            isotherm[\"adsorption\"] = np.delete(isotherm[\"adsorption\"], i)\n",
    "            isotherm[\"adsorption_p\"] = np.delete(isotherm[\"adsorption_p\"], i)\n",
    "        i += 1\n",
    "    return isotherm\n",
    "\n",
    "pressure_corrected = [pressure_corrector(isotherm) for isotherm in pressure_issues]\n",
    "i = 1 #random.randint(0, len(pressure_corrected)-1)\n",
    "plot_isotherm(pressure_corrected[i])"
   ],
   "metadata": {
    "collapsed": false,
    "ExecuteTime": {
     "end_time": "2024-11-04T13:10:41.674121Z",
     "start_time": "2024-11-04T13:10:40.836817Z"
    }
   },
   "id": "5795f93b5119fb39",
   "execution_count": 70
  },
  {
   "cell_type": "code",
   "outputs": [
    {
     "data": {
      "text/plain": "(91, 91)"
     },
     "execution_count": 71,
     "metadata": {},
     "output_type": "execute_result"
    }
   ],
   "source": [
    "len(pressure_issues[i][\"adsorption_p\"]), len(pressure_corrected[i][\"adsorption_p\"])"
   ],
   "metadata": {
    "collapsed": false,
    "ExecuteTime": {
     "end_time": "2024-11-04T13:10:41.687118Z",
     "start_time": "2024-11-04T13:10:41.677118Z"
    }
   },
   "id": "84649026b191bcb4",
   "execution_count": 71
  },
  {
   "cell_type": "code",
   "outputs": [],
   "source": [],
   "metadata": {
    "collapsed": false,
    "ExecuteTime": {
     "end_time": "2024-11-04T13:10:55.438577Z",
     "start_time": "2024-11-04T13:10:55.435576Z"
    }
   },
   "id": "9dd03d302b6384c1",
   "execution_count": 71
  }
 ],
 "metadata": {
  "kernelspec": {
   "display_name": "Python 3",
   "language": "python",
   "name": "python3"
  },
  "language_info": {
   "codemirror_mode": {
    "name": "ipython",
    "version": 2
   },
   "file_extension": ".py",
   "mimetype": "text/x-python",
   "name": "python",
   "nbconvert_exporter": "python",
   "pygments_lexer": "ipython2",
   "version": "2.7.6"
  }
 },
 "nbformat": 4,
 "nbformat_minor": 5
}
