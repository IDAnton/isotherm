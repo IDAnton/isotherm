{
 "cells": [
  {
   "cell_type": "code",
   "id": "initial_id",
   "metadata": {
    "collapsed": true,
    "ExecuteTime": {
     "end_time": "2025-04-30T06:45:10.048897Z",
     "start_time": "2025-04-30T06:45:10.034380Z"
    }
   },
   "source": [
    "import numpy as np\n",
    "import matplotlib.pyplot as plt\n",
    "import pandas as pd\n",
    "import inverse\n",
    "%matplotlib qt\n",
    "\n",
    "def find_nearest(array, value):\n",
    "    array = np.asarray(array)\n",
    "    idx = (np.abs(array - value)).argmin()\n",
    "    return idx, array[idx]"
   ],
   "outputs": [],
   "execution_count": 135
  },
  {
   "metadata": {
    "ExecuteTime": {
     "end_time": "2025-04-30T06:51:00.963472Z",
     "start_time": "2025-04-30T06:51:00.943774Z"
    }
   },
   "cell_type": "code",
   "source": [
    "data = pd.read_csv(\"../data/test2.txt\", header=None, delimiter=' ')\n",
    "isotherm_raw = data[1]\n",
    "pressures_raw = data[0]"
   ],
   "id": "c90a664837b3bfc8",
   "outputs": [],
   "execution_count": 158
  },
  {
   "metadata": {
    "ExecuteTime": {
     "end_time": "2025-04-30T06:51:01.103731Z",
     "start_time": "2025-04-30T06:51:01.090734Z"
    }
   },
   "cell_type": "code",
   "source": "data",
   "id": "f7fe1cf9bf86154d",
   "outputs": [
    {
     "data": {
      "text/plain": [
       "           0         1\n",
       "0   0.004676  0.965859\n",
       "1   0.009178  1.063740\n",
       "2   0.024504  1.227340\n",
       "3   0.048664  1.359610\n",
       "4   0.088155  1.500580\n",
       "5   0.097684  1.529230\n",
       "6   0.147414  1.660710\n",
       "7   0.197991  1.782090\n",
       "8   0.248680  1.900070\n",
       "9   0.299789  2.018020\n",
       "10  0.391104  2.228830\n",
       "11  0.493174  2.471280\n",
       "12  0.545995  2.605880\n",
       "13  0.595996  2.746160\n",
       "14  0.645726  2.901080\n",
       "15  0.694943  3.077630\n",
       "16  0.744258  3.289490\n",
       "17  0.792465  3.550910\n",
       "18  0.840622  3.903360\n",
       "19  0.892991  4.500100\n",
       "20  0.919152  4.991720\n",
       "21  0.938870  5.596970\n",
       "22  0.960034  6.928080\n",
       "23  0.970271  8.343510\n",
       "24  0.988555  9.681050"
      ],
      "text/html": [
       "<div>\n",
       "<style scoped>\n",
       "    .dataframe tbody tr th:only-of-type {\n",
       "        vertical-align: middle;\n",
       "    }\n",
       "\n",
       "    .dataframe tbody tr th {\n",
       "        vertical-align: top;\n",
       "    }\n",
       "\n",
       "    .dataframe thead th {\n",
       "        text-align: right;\n",
       "    }\n",
       "</style>\n",
       "<table border=\"1\" class=\"dataframe\">\n",
       "  <thead>\n",
       "    <tr style=\"text-align: right;\">\n",
       "      <th></th>\n",
       "      <th>0</th>\n",
       "      <th>1</th>\n",
       "    </tr>\n",
       "  </thead>\n",
       "  <tbody>\n",
       "    <tr>\n",
       "      <th>0</th>\n",
       "      <td>0.004676</td>\n",
       "      <td>0.965859</td>\n",
       "    </tr>\n",
       "    <tr>\n",
       "      <th>1</th>\n",
       "      <td>0.009178</td>\n",
       "      <td>1.063740</td>\n",
       "    </tr>\n",
       "    <tr>\n",
       "      <th>2</th>\n",
       "      <td>0.024504</td>\n",
       "      <td>1.227340</td>\n",
       "    </tr>\n",
       "    <tr>\n",
       "      <th>3</th>\n",
       "      <td>0.048664</td>\n",
       "      <td>1.359610</td>\n",
       "    </tr>\n",
       "    <tr>\n",
       "      <th>4</th>\n",
       "      <td>0.088155</td>\n",
       "      <td>1.500580</td>\n",
       "    </tr>\n",
       "    <tr>\n",
       "      <th>5</th>\n",
       "      <td>0.097684</td>\n",
       "      <td>1.529230</td>\n",
       "    </tr>\n",
       "    <tr>\n",
       "      <th>6</th>\n",
       "      <td>0.147414</td>\n",
       "      <td>1.660710</td>\n",
       "    </tr>\n",
       "    <tr>\n",
       "      <th>7</th>\n",
       "      <td>0.197991</td>\n",
       "      <td>1.782090</td>\n",
       "    </tr>\n",
       "    <tr>\n",
       "      <th>8</th>\n",
       "      <td>0.248680</td>\n",
       "      <td>1.900070</td>\n",
       "    </tr>\n",
       "    <tr>\n",
       "      <th>9</th>\n",
       "      <td>0.299789</td>\n",
       "      <td>2.018020</td>\n",
       "    </tr>\n",
       "    <tr>\n",
       "      <th>10</th>\n",
       "      <td>0.391104</td>\n",
       "      <td>2.228830</td>\n",
       "    </tr>\n",
       "    <tr>\n",
       "      <th>11</th>\n",
       "      <td>0.493174</td>\n",
       "      <td>2.471280</td>\n",
       "    </tr>\n",
       "    <tr>\n",
       "      <th>12</th>\n",
       "      <td>0.545995</td>\n",
       "      <td>2.605880</td>\n",
       "    </tr>\n",
       "    <tr>\n",
       "      <th>13</th>\n",
       "      <td>0.595996</td>\n",
       "      <td>2.746160</td>\n",
       "    </tr>\n",
       "    <tr>\n",
       "      <th>14</th>\n",
       "      <td>0.645726</td>\n",
       "      <td>2.901080</td>\n",
       "    </tr>\n",
       "    <tr>\n",
       "      <th>15</th>\n",
       "      <td>0.694943</td>\n",
       "      <td>3.077630</td>\n",
       "    </tr>\n",
       "    <tr>\n",
       "      <th>16</th>\n",
       "      <td>0.744258</td>\n",
       "      <td>3.289490</td>\n",
       "    </tr>\n",
       "    <tr>\n",
       "      <th>17</th>\n",
       "      <td>0.792465</td>\n",
       "      <td>3.550910</td>\n",
       "    </tr>\n",
       "    <tr>\n",
       "      <th>18</th>\n",
       "      <td>0.840622</td>\n",
       "      <td>3.903360</td>\n",
       "    </tr>\n",
       "    <tr>\n",
       "      <th>19</th>\n",
       "      <td>0.892991</td>\n",
       "      <td>4.500100</td>\n",
       "    </tr>\n",
       "    <tr>\n",
       "      <th>20</th>\n",
       "      <td>0.919152</td>\n",
       "      <td>4.991720</td>\n",
       "    </tr>\n",
       "    <tr>\n",
       "      <th>21</th>\n",
       "      <td>0.938870</td>\n",
       "      <td>5.596970</td>\n",
       "    </tr>\n",
       "    <tr>\n",
       "      <th>22</th>\n",
       "      <td>0.960034</td>\n",
       "      <td>6.928080</td>\n",
       "    </tr>\n",
       "    <tr>\n",
       "      <th>23</th>\n",
       "      <td>0.970271</td>\n",
       "      <td>8.343510</td>\n",
       "    </tr>\n",
       "    <tr>\n",
       "      <th>24</th>\n",
       "      <td>0.988555</td>\n",
       "      <td>9.681050</td>\n",
       "    </tr>\n",
       "  </tbody>\n",
       "</table>\n",
       "</div>"
      ]
     },
     "execution_count": 159,
     "metadata": {},
     "output_type": "execute_result"
    }
   ],
   "execution_count": 159
  },
  {
   "metadata": {
    "ExecuteTime": {
     "end_time": "2025-04-30T06:51:01.805051Z",
     "start_time": "2025-04-30T06:51:01.794054Z"
    }
   },
   "cell_type": "code",
   "source": [
    "pore_widths = np.load(\"../data/initial kernels/Size_Kernel_Silica_Adsorption.npy\")\n",
    "pressures = np.load(\"../data/initial kernels/Pressure_Silica.npy\")[:-10]\n",
    "kernel = np.load(\"../data/initial kernels/Kernel_Silica_Adsorption.npy\")[:, :-10]"
   ],
   "id": "10cc5e61999e6796",
   "outputs": [],
   "execution_count": 160
  },
  {
   "metadata": {
    "ExecuteTime": {
     "end_time": "2025-04-30T06:51:02.755317Z",
     "start_time": "2025-04-30T06:51:02.709317Z"
    }
   },
   "cell_type": "code",
   "source": [
    "start_p_idx = find_nearest(pressures, pressures_raw[0])[0]\n",
    "isotherm = np.interp(pressures, pressures_raw, isotherm_raw)[start_p_idx:]\n",
    "plt.plot(pressures[start_p_idx:], isotherm, marker='o')"
   ],
   "id": "35e37703b0c584dc",
   "outputs": [
    {
     "data": {
      "text/plain": [
       "[<matplotlib.lines.Line2D at 0x1ade6a544f0>]"
      ]
     },
     "execution_count": 161,
     "metadata": {},
     "output_type": "execute_result"
    }
   ],
   "execution_count": 161
  },
  {
   "metadata": {
    "ExecuteTime": {
     "end_time": "2025-04-30T06:51:13.122266Z",
     "start_time": "2025-04-30T06:51:13.077913Z"
    }
   },
   "cell_type": "code",
   "source": [
    "plt.plot(pressures_raw, isotherm_raw, marker='o')\n",
    "plt.plot(pressures[start_p_idx:], isotherm, marker='o')\n",
    "plt.show()"
   ],
   "id": "d2c85688fd1f9d04",
   "outputs": [],
   "execution_count": 162
  },
  {
   "metadata": {
    "ExecuteTime": {
     "end_time": "2025-04-30T06:51:23.298089Z",
     "start_time": "2025-04-30T06:51:23.095220Z"
    }
   },
   "cell_type": "code",
   "source": [
    "psd = inverse.fit_linear(isotherm, kernel[:,start_p_idx:], alpha=0).x\n",
    "plt.plot(pore_widths,psd, marker='.')\n",
    "plt.grid()\n",
    "plt.show()"
   ],
   "id": "ae466bc1525a187e",
   "outputs": [],
   "execution_count": 163
  },
  {
   "metadata": {
    "ExecuteTime": {
     "end_time": "2025-04-30T06:51:36.794800Z",
     "start_time": "2025-04-30T06:51:36.099546Z"
    }
   },
   "cell_type": "code",
   "source": [
    "psd_list = []\n",
    "p_start_list = [0, 30, 60, 100]\n",
    "for i in p_start_list:\n",
    "    psd = inverse.fit_linear(isotherm[i:], kernel[:, start_p_idx+i:], alpha=0).x\n",
    "    psd_list.append(psd)\n",
    "for i in range(len(psd_list)):\n",
    "    plt.plot(pore_widths, psd_list[i], marker='.', label=str(pressures[start_p_idx+p_start_list[i]]))\n",
    "plt.legend()\n",
    "plt.grid()\n",
    "plt.show()"
   ],
   "id": "de366ad65bfa8493",
   "outputs": [],
   "execution_count": 164
  },
  {
   "metadata": {},
   "cell_type": "code",
   "outputs": [],
   "execution_count": null,
   "source": "",
   "id": "6d83d6021e18bb26"
  }
 ],
 "metadata": {
  "kernelspec": {
   "display_name": "Python 3",
   "language": "python",
   "name": "python3"
  },
  "language_info": {
   "codemirror_mode": {
    "name": "ipython",
    "version": 2
   },
   "file_extension": ".py",
   "mimetype": "text/x-python",
   "name": "python",
   "nbconvert_exporter": "python",
   "pygments_lexer": "ipython2",
   "version": "2.7.6"
  }
 },
 "nbformat": 4,
 "nbformat_minor": 5
}
