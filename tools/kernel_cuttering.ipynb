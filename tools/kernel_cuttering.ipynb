{
 "cells": [
  {
   "cell_type": "code",
   "id": "initial_id",
   "metadata": {
    "collapsed": true,
    "ExecuteTime": {
     "end_time": "2025-08-20T05:19:42.101662Z",
     "start_time": "2025-08-20T05:19:40.709045Z"
    }
   },
   "source": [
    "import numpy as np\n",
    "import matplotlib.pyplot as plt\n",
    "%matplotlib qt"
   ],
   "outputs": [],
   "execution_count": 1
  },
  {
   "metadata": {
    "ExecuteTime": {
     "end_time": "2025-08-20T05:19:47.659506Z",
     "start_time": "2025-08-20T05:19:47.609274Z"
    }
   },
   "cell_type": "code",
   "source": [
    "pressures = np.load(\"../data/initial kernels/new_kernel/pressure.npy\")\n",
    "a_array = np.load(\"../data/initial kernels/new_kernel/pore_sizes.npy\")\n",
    "kernel = np.load(\"../data/initial kernels/new_kernel/kernel.npy\")\n",
    "\n",
    "pressures2 = np.load(\"../data/initial kernels/Pressure_Silica.npy\")\n",
    "a_array2 = np.load(\"../data/initial kernels/Size_Kernel_Silica_Adsorption.npy\")\n",
    "kernel2 = np.load(\"../data/initial kernels/Kernel_Silica_Adsorption.npy\")"
   ],
   "id": "7e121073124ab1e9",
   "outputs": [],
   "execution_count": 2
  },
  {
   "metadata": {
    "ExecuteTime": {
     "end_time": "2025-08-20T05:19:52.280664Z",
     "start_time": "2025-08-20T05:19:50.455904Z"
    }
   },
   "cell_type": "code",
   "source": [
    "from sklearn.isotonic import IsotonicRegression\n",
    "for i in range(a_array.shape[0]):\n",
    "    if a_array[i] > 99:\n",
    "        if i % 1  == 0:\n",
    "\n",
    "            iso_reg = IsotonicRegression(increasing=True)\n",
    "            y_isotonic = iso_reg.fit_transform(pressures, kernel[i])\n",
    "            plt.plot(pressures, kernel[i]/max(kernel[i]), label=f\"{a_array[i]}\", marker=\".\")\n",
    "            plt.plot(pressures2, kernel2[i]/max(kernel2[i]), label=f\"{a_array2[i]}\", marker=\"*\")\n",
    "            #plt.plot(pressures, y_isotonic, label=f\"{a_array[i]}\", marker=\"*\")\n",
    "    # if a_array[i] > 3:\n",
    "    #     if i % 20  == 0:\n",
    "    #         plt.plot(pressures, kernel[i], label=f\"{a_array[i]}\", marker=\".\")\n",
    "plt.grid(True)\n",
    "plt.legend()\n",
    "plt.xscale(\"log\")\n",
    "plt.show()"
   ],
   "id": "5c631ceb7443ffcf",
   "outputs": [],
   "execution_count": 3
  },
  {
   "metadata": {
    "ExecuteTime": {
     "end_time": "2025-08-15T10:57:12.910875Z",
     "start_time": "2025-08-15T10:57:12.880872Z"
    }
   },
   "cell_type": "code",
   "source": [
    "new_kernel = []\n",
    "for i in range(a_array.shape[0]):\n",
    "    new_kernel.append(iso_reg.fit_transform(pressures, kernel[i]))"
   ],
   "id": "ba4f5c7266d135a9",
   "outputs": [],
   "execution_count": 10
  },
  {
   "metadata": {
    "ExecuteTime": {
     "end_time": "2025-08-15T10:57:49.929439Z",
     "start_time": "2025-08-15T10:57:49.411765Z"
    }
   },
   "cell_type": "code",
   "source": [
    "pressures_cut_tabels = []\n",
    "thresholds = [0.5, 0.8, 0.9, 0.95, 0.99]\n",
    "\n",
    "for threshold in thresholds:\n",
    "    pressures_cut_tabel = []\n",
    "    for i in range(a_array.shape[0]):\n",
    "        for j in range(pressures.shape[0]):\n",
    "            if new_kernel[i][j] > max(new_kernel[i])*threshold:\n",
    "                pressures_cut_tabel.append(pressures[j])\n",
    "                break\n",
    "    pressures_cut_tabels.append(pressures_cut_tabel)"
   ],
   "id": "77c07cfb0d76ad9f",
   "outputs": [],
   "execution_count": 14
  },
  {
   "metadata": {
    "ExecuteTime": {
     "end_time": "2025-08-15T10:57:50.491684Z",
     "start_time": "2025-08-15T10:57:50.429685Z"
    }
   },
   "cell_type": "code",
   "source": [
    "def plot_cut_tabels(pressures_cut_tabels):\n",
    "    for i in range(len(pressures_cut_tabels)):\n",
    "        #plt.plot(a_array, pressures_cut_tabels[i], marker=\".\", label=f\"threshold = {thresholds[i]} (p/p0)\")\n",
    "        plt.plot(pressures_cut_tabels[i], a_array, marker=\".\", label=f\"threshold = {thresholds[i]} (p/p0)\")\n",
    "        plt.xscale(\"log\")\n",
    "        plt.yscale(\"log\")\n",
    "        plt.grid(True)\n",
    "        plt.xlabel(\"pore size (nm)\")\n",
    "        plt.ylabel(\"cut pressure (p/p0)\")\n",
    "        plt.legend()\n",
    "        plt.show()\n",
    "\n",
    "plot_cut_tabels(pressures_cut_tabels)"
   ],
   "id": "9094d4d4727f131",
   "outputs": [],
   "execution_count": 15
  },
  {
   "metadata": {
    "ExecuteTime": {
     "end_time": "2025-08-15T10:58:07.259878Z",
     "start_time": "2025-08-15T10:58:07.244878Z"
    }
   },
   "cell_type": "code",
   "source": [
    "for k in range(len(pressures_cut_tabels)):\n",
    "    for i in range(len(pressures_cut_tabel)-2, -1 , -1):\n",
    "        if pressures_cut_tabels[k][i] > pressures_cut_tabels[k][i+1]:\n",
    "            pressures_cut_tabels[k][i] = pressures_cut_tabels[k][i+1]"
   ],
   "id": "23a660edda37522b",
   "outputs": [],
   "execution_count": 16
  },
  {
   "metadata": {
    "ExecuteTime": {
     "end_time": "2025-08-15T10:58:08.395880Z",
     "start_time": "2025-08-15T10:58:08.350513Z"
    }
   },
   "cell_type": "code",
   "source": "plot_cut_tabels(pressures_cut_tabels)",
   "id": "8bcba23e0a603717",
   "outputs": [],
   "execution_count": 17
  },
  {
   "metadata": {
    "ExecuteTime": {
     "end_time": "2025-08-15T10:58:13.566854Z",
     "start_time": "2025-08-15T10:58:13.553852Z"
    }
   },
   "cell_type": "code",
   "source": [
    "final_tabel = np.zeros((a_array.shape[0], 2))\n",
    "for i in range(len(pressures_cut_tabels[1])):\n",
    "    final_tabel[i] = np.array((pressures_cut_tabels[1][i], a_array[i]))\n",
    "final_tabel"
   ],
   "id": "e326d89f2fe2420c",
   "outputs": [
    {
     "data": {
      "text/plain": [
       "array([[1.99370980e-06, 7.00000000e-01],\n",
       "       [1.99370980e-06, 7.12500000e-01],\n",
       "       [3.15812498e-06, 7.25000000e-01],\n",
       "       [5.00266304e-06, 7.37500000e-01],\n",
       "       [5.00266304e-06, 7.50000000e-01],\n",
       "       [7.92450363e-06, 7.62500000e-01],\n",
       "       [1.25526524e-05, 7.75000000e-01],\n",
       "       [1.57990893e-05, 7.87500000e-01],\n",
       "       [2.50267960e-05, 8.00000000e-01],\n",
       "       [3.96441499e-05, 8.12500000e-01],\n",
       "       [6.27987245e-05, 8.25000000e-01],\n",
       "       [7.90380443e-05, 8.37500000e-01],\n",
       "       [1.25198836e-04, 8.50000000e-01],\n",
       "       [1.57578628e-04, 8.62500000e-01],\n",
       "       [3.14166790e-04, 8.75000000e-01],\n",
       "       [3.95410163e-04, 8.87500000e-01],\n",
       "       [3.95410163e-04, 9.00000000e-01],\n",
       "       [3.95410163e-04, 9.25000000e-01],\n",
       "       [3.95410163e-04, 9.50000000e-01],\n",
       "       [3.95410163e-04, 9.75000000e-01],\n",
       "       [3.95410163e-04, 1.00000000e+00],\n",
       "       [3.95410163e-04, 1.05000000e+00],\n",
       "       [6.26358392e-04, 1.10000000e+00],\n",
       "       [1.24876539e-03, 1.15000000e+00],\n",
       "       [3.13378230e-03, 1.20000000e+00],\n",
       "       [7.86480548e-03, 1.30000000e+00],\n",
       "       [7.86480548e-03, 1.40000000e+00],\n",
       "       [1.56846298e-02, 1.50000000e+00],\n",
       "       [3.93916610e-02, 1.60000000e+00],\n",
       "       [3.93916610e-02, 1.70000000e+00],\n",
       "       [4.95969556e-02, 1.80000000e+00],\n",
       "       [8.66532622e-02, 2.00000000e+00],\n",
       "       [1.23912068e-01, 2.20000000e+00],\n",
       "       [1.61261929e-01, 2.40000000e+00],\n",
       "       [2.11209991e-01, 2.60000000e+00],\n",
       "       [2.48784751e-01, 2.80000000e+00],\n",
       "       [2.99040651e-01, 3.00000000e+00],\n",
       "       [3.36850806e-01, 3.20000000e+00],\n",
       "       [3.74764500e-01, 3.40000000e+00],\n",
       "       [4.12782695e-01, 3.60000000e+00],\n",
       "       [4.38186310e-01, 3.80000000e+00],\n",
       "       [4.76380523e-01, 4.00000000e+00],\n",
       "       [5.01903240e-01, 4.20000000e+00],\n",
       "       [5.27473498e-01, 4.40000000e+00],\n",
       "       [5.53092755e-01, 4.60000000e+00],\n",
       "       [5.65920344e-01, 4.80000000e+00],\n",
       "       [5.91611926e-01, 5.00000000e+00],\n",
       "       [6.17352147e-01, 5.20000000e+00],\n",
       "       [6.30240974e-01, 5.40000000e+00],\n",
       "       [6.56055536e-01, 5.60000000e+00],\n",
       "       [6.56055536e-01, 5.80000000e+00],\n",
       "       [6.81920567e-01, 6.00000000e+00],\n",
       "       [6.94871449e-01, 6.20000000e+00],\n",
       "       [7.07834547e-01, 6.40000000e+00],\n",
       "       [7.07834547e-01, 6.60000000e+00],\n",
       "       [7.20810939e-01, 6.80000000e+00],\n",
       "       [7.33799270e-01, 7.00000000e+00],\n",
       "       [7.46800535e-01, 7.20000000e+00],\n",
       "       [7.46800535e-01, 7.40000000e+00],\n",
       "       [7.59815187e-01, 7.60000000e+00],\n",
       "       [7.72840971e-01, 7.80000000e+00],\n",
       "       [7.72840971e-01, 8.00000000e+00],\n",
       "       [7.85881155e-01, 8.20000000e+00],\n",
       "       [7.85881155e-01, 8.40000000e+00],\n",
       "       [7.98933108e-01, 8.60000000e+00],\n",
       "       [7.98933108e-01, 8.80000000e+00],\n",
       "       [8.11997649e-01, 9.00000000e+00],\n",
       "       [8.11997649e-01, 9.20000000e+00],\n",
       "       [8.25075979e-01, 9.40000000e+00],\n",
       "       [8.25075979e-01, 9.60000000e+00],\n",
       "       [8.25075979e-01, 9.80000000e+00],\n",
       "       [8.38166276e-01, 1.00000000e+01],\n",
       "       [8.38166276e-01, 1.05000000e+01],\n",
       "       [8.51270354e-01, 1.10000000e+01],\n",
       "       [8.51270354e-01, 1.15000000e+01],\n",
       "       [8.64386909e-01, 1.20000000e+01],\n",
       "       [8.64386909e-01, 1.25000000e+01],\n",
       "       [8.64386909e-01, 1.30000000e+01],\n",
       "       [8.77516009e-01, 1.35000000e+01],\n",
       "       [8.90659196e-01, 1.40000000e+01],\n",
       "       [8.90659196e-01, 1.45000000e+01],\n",
       "       [8.90659196e-01, 1.50000000e+01],\n",
       "       [9.06008882e-01, 1.60000000e+01],\n",
       "       [9.13025330e-01, 1.70000000e+01],\n",
       "       [9.18641043e-01, 1.80000000e+01],\n",
       "       [9.24961275e-01, 1.90000000e+01],\n",
       "       [9.29176199e-01, 2.00000000e+01],\n",
       "       [9.33393261e-01, 2.10000000e+01],\n",
       "       [9.37611038e-01, 2.20000000e+01],\n",
       "       [9.39720301e-01, 2.30000000e+01],\n",
       "       [9.41829360e-01, 2.40000000e+01],\n",
       "       [9.46049344e-01, 2.50000000e+01],\n",
       "       [9.48160234e-01, 2.60000000e+01],\n",
       "       [9.49743376e-01, 2.70000000e+01],\n",
       "       [9.51326672e-01, 2.80000000e+01],\n",
       "       [9.52911408e-01, 2.90000000e+01],\n",
       "       [9.54494986e-01, 3.00000000e+01],\n",
       "       [9.56078692e-01, 3.10000000e+01],\n",
       "       [9.57662517e-01, 3.20000000e+01],\n",
       "       [9.57662517e-01, 3.30000000e+01],\n",
       "       [9.59247760e-01, 3.40000000e+01],\n",
       "       [9.60831801e-01, 3.60000000e+01],\n",
       "       [9.62417246e-01, 3.80000000e+01],\n",
       "       [9.64001469e-01, 4.00000000e+01],\n",
       "       [9.65587084e-01, 4.20000000e+01],\n",
       "       [9.67172773e-01, 4.40000000e+01],\n",
       "       [9.68757206e-01, 4.60000000e+01],\n",
       "       [9.68757206e-01, 4.80000000e+01],\n",
       "       [9.70343013e-01, 5.00000000e+01],\n",
       "       [9.71928867e-01, 5.50000000e+01],\n",
       "       [9.73514761e-01, 6.00000000e+01],\n",
       "       [9.75102013e-01, 6.50000000e+01],\n",
       "       [9.75102013e-01, 7.00000000e+01],\n",
       "       [9.76687961e-01, 7.50000000e+01],\n",
       "       [9.76687961e-01, 8.00000000e+01],\n",
       "       [9.78273922e-01, 9.00000000e+01],\n",
       "       [9.78273922e-01, 1.00000000e+02]])"
      ]
     },
     "execution_count": 18,
     "metadata": {},
     "output_type": "execute_result"
    }
   ],
   "execution_count": 18
  },
  {
   "metadata": {
    "ExecuteTime": {
     "end_time": "2025-08-15T10:58:38.780783Z",
     "start_time": "2025-08-15T10:58:38.768382Z"
    }
   },
   "cell_type": "code",
   "source": "np.save(f\"../data/initial kernels/new_kernel/cut_tabel\", final_tabel)",
   "id": "13274765d959a72d",
   "outputs": [],
   "execution_count": 19
  },
  {
   "metadata": {
    "ExecuteTime": {
     "end_time": "2025-08-15T11:00:04.416790Z",
     "start_time": "2025-08-15T11:00:04.402795Z"
    }
   },
   "cell_type": "code",
   "source": "np.save(f\"../data/initial kernels/new_kernel/new_kernel\", np.array(new_kernel))",
   "id": "8577808bdb5650",
   "outputs": [],
   "execution_count": 21
  },
  {
   "metadata": {},
   "cell_type": "code",
   "outputs": [],
   "execution_count": null,
   "source": "",
   "id": "f66167cb02331732"
  }
 ],
 "metadata": {
  "kernelspec": {
   "display_name": "Python 3",
   "language": "python",
   "name": "python3"
  },
  "language_info": {
   "codemirror_mode": {
    "name": "ipython",
    "version": 2
   },
   "file_extension": ".py",
   "mimetype": "text/x-python",
   "name": "python",
   "nbconvert_exporter": "python",
   "pygments_lexer": "ipython2",
   "version": "2.7.6"
  }
 },
 "nbformat": 4,
 "nbformat_minor": 5
}
