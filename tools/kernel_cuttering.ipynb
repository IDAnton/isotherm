{
 "cells": [
  {
   "cell_type": "code",
   "id": "initial_id",
   "metadata": {
    "collapsed": true,
    "ExecuteTime": {
     "end_time": "2025-08-05T07:00:28.896933Z",
     "start_time": "2025-08-05T07:00:27.451579Z"
    }
   },
   "source": [
    "import numpy as np\n",
    "import matplotlib.pyplot as plt\n",
    "%matplotlib qt"
   ],
   "outputs": [],
   "execution_count": 1
  },
  {
   "metadata": {
    "ExecuteTime": {
     "end_time": "2025-08-05T07:00:28.928841Z",
     "start_time": "2025-08-05T07:00:28.896933Z"
    }
   },
   "cell_type": "code",
   "source": [
    "pressures = np.load(\"../data/initial kernels/new_kernel/pressure.npy\")\n",
    "a_array = np.load(\"../data/initial kernels/new_kernel/pore_sizes.npy\")\n",
    "kernel = np.load(\"../data/initial kernels/new_kernel/kernel.npy\")"
   ],
   "id": "7e121073124ab1e9",
   "outputs": [],
   "execution_count": 2
  },
  {
   "metadata": {
    "ExecuteTime": {
     "end_time": "2025-08-05T07:02:21.918387Z",
     "start_time": "2025-08-05T07:02:21.864388Z"
    }
   },
   "cell_type": "code",
   "source": [
    "for i in range(a_array.shape[0]):\n",
    "    if a_array[i] < 3:\n",
    "        if i % 5  == 0:\n",
    "            plt.plot(pressures, kernel[i], label=f\"{a_array[i]}\", marker=\".\")\n",
    "    if a_array[i] > 3:\n",
    "        if i % 20  == 0:\n",
    "            plt.plot(pressures, kernel[i], label=f\"{a_array[i]}\", marker=\".\")\n",
    "plt.grid(True)\n",
    "plt.legend()\n",
    "plt.xscale(\"log\")\n",
    "plt.show()"
   ],
   "id": "5c631ceb7443ffcf",
   "outputs": [],
   "execution_count": 5
  },
  {
   "metadata": {
    "ExecuteTime": {
     "end_time": "2025-08-05T07:48:08.047106Z",
     "start_time": "2025-08-05T07:48:08.031262Z"
    }
   },
   "cell_type": "code",
   "source": [
    "def find_jump(x, y, threshold=0.1):\n",
    "    from scipy.ndimage import gaussian_filter1d\n",
    "\n",
    "    y_smooth = gaussian_filter1d(y, sigma=2)\n",
    "    grad = np.gradient(y_smooth, x)\n",
    "    grad2 = np.gradient(grad, x)\n",
    "\n",
    "\n",
    "    jump_indices = np.where(np.abs(grad2) > threshold)[0]\n",
    "\n",
    "    if len(jump_indices) == 0:\n",
    "        return None\n",
    "    else:\n",
    "        return x[jump_indices[0]+1]"
   ],
   "id": "457de732b4ce5d47",
   "outputs": [],
   "execution_count": 135
  },
  {
   "metadata": {
    "ExecuteTime": {
     "end_time": "2025-08-05T07:48:47.935569Z",
     "start_time": "2025-08-05T07:48:47.871987Z"
    }
   },
   "cell_type": "code",
   "source": [
    "from scipy.ndimage import gaussian_filter1d\n",
    "from scipy.interpolate import PchipInterpolator, UnivariateSpline\n",
    "\n",
    "new_kernel = []\n",
    "x = np.log(pressures)\n",
    "\n",
    "\n",
    "\n",
    "for i in range(a_array.shape[0]):\n",
    "\n",
    "    jump_x = find_jump(x, kernel[i], threshold=20000)\n",
    "    if i == 100:\n",
    "        print(np.exp(jump_x))\n",
    "\n",
    "    smoothness = 0.001\n",
    "    if jump_x is not None and sum(left_mask) != 0:\n",
    "        left_mask = x < jump_x\n",
    "        right_mask = x >= jump_x\n",
    "\n",
    "        spline_left = UnivariateSpline(x[left_mask], kernel[i][left_mask], s=smoothness * sum(left_mask))\n",
    "        spline_right = UnivariateSpline(x[right_mask], kernel[i][right_mask], s=smoothness * sum(right_mask))\n",
    "\n",
    "        y_smooth = np.where(left_mask, spline_left(x), spline_right(x))\n",
    "    else:\n",
    "        spline = UnivariateSpline(x, kernel[i], s=smoothness * len(x))\n",
    "        y_smooth = spline(x)\n",
    "\n",
    "\n",
    "    new_kernel.append(y_smooth)"
   ],
   "id": "a1e49decfdd9bb45",
   "outputs": [
    {
     "name": "stdout",
     "output_type": "stream",
     "text": [
      "0.9513266715224342\n"
     ]
    }
   ],
   "execution_count": 141
  },
  {
   "metadata": {
    "ExecuteTime": {
     "end_time": "2025-08-05T07:48:48.114673Z",
     "start_time": "2025-08-05T07:48:48.067118Z"
    }
   },
   "cell_type": "code",
   "source": [
    "plt.plot(pressures, kernel[10], marker=\".\")\n",
    "plt.plot(pressures, new_kernel[10], marker=\".\")\n",
    "plt.grid(True)\n",
    "plt.legend()\n",
    "plt.xscale(\"log\")\n",
    "plt.show()"
   ],
   "id": "f21d106fb9aa8c9b",
   "outputs": [
    {
     "name": "stderr",
     "output_type": "stream",
     "text": [
      "No artists with labels found to put in legend.  Note that artists whose label start with an underscore are ignored when legend() is called with no argument.\n"
     ]
    }
   ],
   "execution_count": 142
  },
  {
   "metadata": {
    "ExecuteTime": {
     "end_time": "2025-08-05T07:05:35.586435Z",
     "start_time": "2025-08-05T07:05:35.538839Z"
    }
   },
   "cell_type": "code",
   "source": [
    "for i in range(a_array.shape[0]):\n",
    "    if a_array[i] < 3:\n",
    "        if i % 5  == 0:\n",
    "            plt.plot(pressures, new_kernel[i], label=f\"{a_array[i]}\", marker=\".\")\n",
    "    if a_array[i] > 3:\n",
    "        if i % 20  == 0:\n",
    "            plt.plot(pressures, new_kernel[i], label=f\"{a_array[i]}\", marker=\".\")\n",
    "plt.grid(True)\n",
    "plt.legend()\n",
    "plt.xscale(\"log\")\n",
    "plt.show()"
   ],
   "id": "50532d297556fc72",
   "outputs": [],
   "execution_count": 8
  },
  {
   "metadata": {
    "ExecuteTime": {
     "end_time": "2025-08-05T07:00:37.461525Z",
     "start_time": "2025-08-05T07:00:36.916097Z"
    }
   },
   "cell_type": "code",
   "source": [
    "pressures_cut_tabels = []\n",
    "thresholds = [0.5, 0.8, 0.9, 0.95, 0.99]\n",
    "\n",
    "for threshold in thresholds:\n",
    "    pressures_cut_tabel = []\n",
    "    for i in range(a_array.shape[0]):\n",
    "        for j in range(pressures.shape[0]):\n",
    "            if kernel[i][j] > max(kernel[i])*threshold:\n",
    "                pressures_cut_tabel.append(pressures[j])\n",
    "                break\n",
    "    pressures_cut_tabels.append(pressures_cut_tabel)"
   ],
   "id": "77c07cfb0d76ad9f",
   "outputs": [],
   "execution_count": 4
  },
  {
   "metadata": {
    "ExecuteTime": {
     "end_time": "2025-07-17T08:46:07.716042Z",
     "start_time": "2025-07-17T08:46:07.708042Z"
    }
   },
   "cell_type": "code",
   "source": [
    "for i in range(len(pressures_cut_tabels[1])):\n",
    "    print(pressures_cut_tabel[i], a_array[i])"
   ],
   "id": "3b6efd5e75b11d32",
   "outputs": [
    {
     "name": "stdout",
     "output_type": "stream",
     "text": [
      "0.6948714490209711 0.7\n",
      "0.6948714490209711 0.7125\n",
      "0.48913569857225103 0.725\n",
      "0.45090579423968047 0.7375\n",
      "0.514682716615873 0.75\n",
      "0.4636374608599723 0.7625\n",
      "0.7598151874538369 0.775\n",
      "0.3494773813917584 0.7875\n",
      "0.3747645004879442 0.8\n",
      "0.5402767836005385 0.8125\n",
      "0.45090579423968047 0.825\n",
      "0.5402767836005385 0.8375\n",
      "0.6044757175322423 0.85\n",
      "0.6689822522045161 0.8625\n",
      "0.78588115512815 0.875\n",
      "0.864386908961983 0.8875\n",
      "0.9529114081200515 0.9\n",
      "0.838166276070767 0.925\n",
      "0.6560555360636577 0.95\n",
      "0.6689822522045161 0.975\n",
      "0.5659203443910349 1.0\n",
      "0.45090579423968047 1.05\n",
      "0.31163271255203173 1.1\n",
      "0.4127826947333826 1.15\n",
      "0.8250759790048957 1.2\n",
      "0.838166276070767 1.3\n",
      "0.22372398775989313 1.4\n",
      "0.4636374608599723 1.5\n",
      "0.9270675147657117 1.6\n",
      "0.7337992703131253 1.7\n",
      "0.8119976493404235 1.8\n",
      "0.08665326219384657 2.0\n",
      "0.5274734983599463 2.2\n",
      "0.16126192898169248 2.4\n",
      "0.838166276070767 2.6\n",
      "0.6431426202020313 2.8\n",
      "0.29904065055975326 3.0\n",
      "0.7728409710632618 3.2\n",
      "0.6689822522045161 3.4\n",
      "0.7989331079151208 3.6\n",
      "0.8250759790048957 3.8\n",
      "0.7989331079151208 4.0\n",
      "0.7989331079151208 4.2\n",
      "0.8119976493404235 4.4\n",
      "0.78588115512815 4.6\n",
      "0.7728409710632618 4.8\n",
      "0.8119976493404235 5.0\n",
      "0.78588115512815 5.2\n",
      "0.7989331079151208 5.4\n",
      "0.838166276070767 5.6\n",
      "0.7989331079151208 5.8\n",
      "0.8119976493404235 6.0\n",
      "0.8119976493404235 6.2\n",
      "0.7989331079151208 6.4\n",
      "0.8250759790048957 6.6\n",
      "0.838166276070767 6.8\n",
      "0.8250759790048957 7.0\n",
      "0.7989331079151208 7.2\n",
      "0.838166276070767 7.4\n",
      "0.838166276070767 7.6\n",
      "0.8119976493404235 7.8\n",
      "0.8119976493404235 8.0\n",
      "0.8119976493404235 8.2\n",
      "0.838166276070767 8.4\n",
      "0.8119976493404235 8.6\n",
      "0.8512703543202469 8.8\n",
      "0.8250759790048957 9.0\n",
      "0.838166276070767 9.2\n",
      "0.838166276070767 9.4\n",
      "0.838166276070767 9.6\n",
      "0.838166276070767 9.8\n",
      "0.838166276070767 10.0\n",
      "0.838166276070767 10.5\n",
      "0.8512703543202469 11.0\n",
      "0.8512703543202469 11.5\n",
      "0.864386908961983 12.0\n",
      "0.864386908961983 12.5\n",
      "0.864386908961983 13.0\n",
      "0.8775160094124941 13.5\n",
      "0.8906591962856374 14.0\n",
      "0.8906591962856374 14.5\n",
      "0.8906591962856374 15.0\n",
      "0.906008882471836 16.0\n",
      "0.9130253300721864 17.0\n",
      "0.9186410427241148 18.0\n",
      "0.9249612751952752 19.0\n",
      "0.9291761985460323 20.0\n",
      "0.9333932612751064 21.0\n",
      "0.9376110379284756 22.0\n",
      "0.9397203010179328 23.0\n",
      "0.9418293596114808 24.0\n",
      "0.9460493437320081 25.0\n",
      "0.948160234028192 26.0\n",
      "0.9497433763436401 27.0\n",
      "0.9513266715224342 28.0\n",
      "0.9529114081200515 29.0\n",
      "0.9544949862222029 30.0\n",
      "0.9560786921145032 31.0\n",
      "0.9576625174048936 32.0\n",
      "0.9576625174048936 33.0\n",
      "0.9592477595294304 34.0\n",
      "0.9608318006098328 36.0\n",
      "0.9624172461339779 38.0\n",
      "0.9640014692347952 40.0\n",
      "0.9655870843232904 42.0\n",
      "0.9671727725844845 44.0\n",
      "0.9687572062241565 46.0\n",
      "0.9687572062241565 48.0\n",
      "0.9703430130462553 50.0\n",
      "0.9719288674650691 55.0\n",
      "0.9735147609223296 60.0\n",
      "0.9751020130991161 65.0\n",
      "0.9751020130991161 70.0\n",
      "0.9766879611361248 75.0\n",
      "0.9766879611361248 80.0\n",
      "0.9782739224386912 90.0\n",
      "0.9782739224386912 100.0\n"
     ]
    }
   ],
   "execution_count": 5
  },
  {
   "metadata": {
    "ExecuteTime": {
     "end_time": "2025-07-17T08:46:44.800771Z",
     "start_time": "2025-07-17T08:46:44.740771Z"
    }
   },
   "cell_type": "code",
   "source": [
    "def plot_cut_tabels(pressures_cut_tabels):\n",
    "    for i in range(len(pressures_cut_tabels)):\n",
    "        #plt.plot(a_array, pressures_cut_tabels[i], marker=\".\", label=f\"threshold = {thresholds[i]} (p/p0)\")\n",
    "        plt.plot(pressures_cut_tabels[i], a_array, marker=\".\", label=f\"threshold = {thresholds[i]} (p/p0)\")\n",
    "        plt.xscale(\"log\")\n",
    "        plt.yscale(\"log\")\n",
    "        plt.grid(True)\n",
    "        plt.xlabel(\"pore size (nm)\")\n",
    "        plt.ylabel(\"cut pressure (p/p0)\")\n",
    "        plt.legend()\n",
    "        plt.show()\n",
    "\n",
    "plot_cut_tabels(pressures_cut_tabels)"
   ],
   "id": "9094d4d4727f131",
   "outputs": [],
   "execution_count": 7
  },
  {
   "metadata": {
    "ExecuteTime": {
     "end_time": "2025-07-15T14:52:06.045608Z",
     "start_time": "2025-07-15T14:52:06.041102Z"
    }
   },
   "cell_type": "code",
   "source": [
    "for k in range(len(pressures_cut_tabels)):\n",
    "    for i in range(len(pressures_cut_tabel)-2, -1 , -1):\n",
    "        if pressures_cut_tabels[k][i] > pressures_cut_tabels[k][i+1]:\n",
    "            pressures_cut_tabels[k][i] = pressures_cut_tabels[k][i+1]"
   ],
   "id": "23a660edda37522b",
   "outputs": [],
   "execution_count": 87
  },
  {
   "metadata": {
    "ExecuteTime": {
     "end_time": "2025-07-15T14:52:06.366648Z",
     "start_time": "2025-07-15T14:52:06.322904Z"
    }
   },
   "cell_type": "code",
   "source": "plot_cut_tabels(pressures_cut_tabels)",
   "id": "8bcba23e0a603717",
   "outputs": [],
   "execution_count": 88
  },
  {
   "metadata": {
    "ExecuteTime": {
     "end_time": "2025-07-15T08:32:42.922047Z",
     "start_time": "2025-07-15T08:32:42.915544Z"
    }
   },
   "cell_type": "code",
   "source": [
    "final_tabel = np.zeros((a_array.shape[0], 2))\n",
    "for i in range(len(pressures_cut_tabels[1])):\n",
    "    final_tabel[i] = np.array((pressures_cut_tabels[1][i], a_array[i]))\n",
    "final_tabel"
   ],
   "id": "e326d89f2fe2420c",
   "outputs": [
    {
     "data": {
      "text/plain": [
       "array([[4.98959096e-05, 7.00000000e-01],\n",
       "       [6.27987245e-05, 7.12500000e-01],\n",
       "       [6.27987245e-05, 7.25000000e-01],\n",
       "       [7.90380443e-05, 7.37500000e-01],\n",
       "       [9.94768869e-05, 7.50000000e-01],\n",
       "       [1.57578628e-04, 7.62500000e-01],\n",
       "       [1.98330945e-04, 7.75000000e-01],\n",
       "       [2.49615673e-04, 7.87500000e-01],\n",
       "       [3.14166790e-04, 8.00000000e-01],\n",
       "       [4.97662767e-04, 8.12500000e-01],\n",
       "       [7.88334656e-04, 8.25000000e-01],\n",
       "       [1.24876539e-03, 8.37500000e-01],\n",
       "       [1.57174882e-03, 8.50000000e-01],\n",
       "       [2.48983767e-03, 8.62500000e-01],\n",
       "       [2.48983767e-03, 8.75000000e-01],\n",
       "       [2.48983767e-03, 8.87500000e-01],\n",
       "       [2.48983767e-03, 9.00000000e-01],\n",
       "       [2.48983767e-03, 9.25000000e-01],\n",
       "       [2.48983767e-03, 9.50000000e-01],\n",
       "       [2.48983767e-03, 9.75000000e-01],\n",
       "       [2.48983767e-03, 1.00000000e+00],\n",
       "       [2.48983767e-03, 1.05000000e+00],\n",
       "       [2.48983767e-03, 1.10000000e+00],\n",
       "       [6.24851412e-03, 1.15000000e+00],\n",
       "       [1.56846298e-02, 1.20000000e+00],\n",
       "       [1.56846298e-02, 1.30000000e+00],\n",
       "       [1.56846298e-02, 1.40000000e+00],\n",
       "       [3.93916610e-02, 1.50000000e+00],\n",
       "       [8.66532622e-02, 1.60000000e+00],\n",
       "       [8.66532622e-02, 1.70000000e+00],\n",
       "       [8.66532622e-02, 1.80000000e+00],\n",
       "       [8.66532622e-02, 2.00000000e+00],\n",
       "       [1.23912068e-01, 2.20000000e+00],\n",
       "       [1.61261929e-01, 2.40000000e+00],\n",
       "       [2.11209991e-01, 2.60000000e+00],\n",
       "       [2.48784751e-01, 2.80000000e+00],\n",
       "       [2.99040651e-01, 3.00000000e+00],\n",
       "       [3.36850806e-01, 3.20000000e+00],\n",
       "       [3.74764500e-01, 3.40000000e+00],\n",
       "       [4.12782695e-01, 3.60000000e+00],\n",
       "       [4.38186310e-01, 3.80000000e+00],\n",
       "       [4.76380523e-01, 4.00000000e+00],\n",
       "       [5.01903240e-01, 4.20000000e+00],\n",
       "       [5.27473498e-01, 4.40000000e+00],\n",
       "       [5.53092755e-01, 4.60000000e+00],\n",
       "       [5.65920344e-01, 4.80000000e+00],\n",
       "       [5.91611926e-01, 5.00000000e+00],\n",
       "       [6.17352147e-01, 5.20000000e+00],\n",
       "       [6.30240974e-01, 5.40000000e+00],\n",
       "       [6.56055536e-01, 5.60000000e+00],\n",
       "       [6.56055536e-01, 5.80000000e+00],\n",
       "       [6.81920567e-01, 6.00000000e+00],\n",
       "       [6.94871449e-01, 6.20000000e+00],\n",
       "       [7.07834547e-01, 6.40000000e+00],\n",
       "       [7.07834547e-01, 6.60000000e+00],\n",
       "       [7.20810939e-01, 6.80000000e+00],\n",
       "       [7.33799270e-01, 7.00000000e+00],\n",
       "       [7.46800535e-01, 7.20000000e+00],\n",
       "       [7.46800535e-01, 7.40000000e+00],\n",
       "       [7.59815187e-01, 7.60000000e+00],\n",
       "       [7.72840971e-01, 7.80000000e+00],\n",
       "       [7.72840971e-01, 8.00000000e+00],\n",
       "       [7.85881155e-01, 8.20000000e+00],\n",
       "       [7.85881155e-01, 8.40000000e+00],\n",
       "       [7.98933108e-01, 8.60000000e+00],\n",
       "       [7.98933108e-01, 8.80000000e+00],\n",
       "       [8.11997649e-01, 9.00000000e+00],\n",
       "       [8.11997649e-01, 9.20000000e+00],\n",
       "       [8.25075979e-01, 9.40000000e+00],\n",
       "       [8.25075979e-01, 9.60000000e+00],\n",
       "       [8.25075979e-01, 9.80000000e+00],\n",
       "       [8.38166276e-01, 1.00000000e+01],\n",
       "       [8.38166276e-01, 1.05000000e+01],\n",
       "       [8.51270354e-01, 1.10000000e+01],\n",
       "       [8.51270354e-01, 1.15000000e+01],\n",
       "       [8.64386909e-01, 1.20000000e+01],\n",
       "       [8.64386909e-01, 1.25000000e+01],\n",
       "       [8.64386909e-01, 1.30000000e+01],\n",
       "       [8.77516009e-01, 1.35000000e+01],\n",
       "       [8.90659196e-01, 1.40000000e+01],\n",
       "       [8.90659196e-01, 1.45000000e+01],\n",
       "       [8.90659196e-01, 1.50000000e+01],\n",
       "       [9.06008882e-01, 1.60000000e+01],\n",
       "       [9.13025330e-01, 1.70000000e+01],\n",
       "       [9.18641043e-01, 1.80000000e+01],\n",
       "       [9.24961275e-01, 1.90000000e+01],\n",
       "       [9.29176199e-01, 2.00000000e+01],\n",
       "       [9.33393261e-01, 2.10000000e+01],\n",
       "       [9.37611038e-01, 2.20000000e+01],\n",
       "       [9.39720301e-01, 2.30000000e+01],\n",
       "       [9.41829360e-01, 2.40000000e+01],\n",
       "       [9.46049344e-01, 2.50000000e+01],\n",
       "       [9.48160234e-01, 2.60000000e+01],\n",
       "       [9.49743376e-01, 2.70000000e+01],\n",
       "       [9.51326672e-01, 2.80000000e+01],\n",
       "       [9.52911408e-01, 2.90000000e+01],\n",
       "       [9.54494986e-01, 3.00000000e+01],\n",
       "       [9.56078692e-01, 3.10000000e+01],\n",
       "       [9.57662517e-01, 3.20000000e+01],\n",
       "       [9.57662517e-01, 3.30000000e+01],\n",
       "       [9.59247760e-01, 3.40000000e+01],\n",
       "       [9.60831801e-01, 3.60000000e+01],\n",
       "       [9.62417246e-01, 3.80000000e+01],\n",
       "       [9.64001469e-01, 4.00000000e+01],\n",
       "       [9.65587084e-01, 4.20000000e+01],\n",
       "       [9.67172773e-01, 4.40000000e+01],\n",
       "       [9.68757206e-01, 4.60000000e+01],\n",
       "       [9.68757206e-01, 4.80000000e+01],\n",
       "       [9.70343013e-01, 5.00000000e+01],\n",
       "       [9.71928867e-01, 5.50000000e+01],\n",
       "       [9.73514761e-01, 6.00000000e+01],\n",
       "       [9.75102013e-01, 6.50000000e+01],\n",
       "       [9.75102013e-01, 7.00000000e+01],\n",
       "       [9.76687961e-01, 7.50000000e+01],\n",
       "       [9.76687961e-01, 8.00000000e+01],\n",
       "       [9.78273922e-01, 9.00000000e+01],\n",
       "       [9.78273922e-01, 1.00000000e+02]])"
      ]
     },
     "execution_count": 66,
     "metadata": {},
     "output_type": "execute_result"
    }
   ],
   "execution_count": 66
  },
  {
   "metadata": {
    "ExecuteTime": {
     "end_time": "2025-07-15T08:36:08.706695Z",
     "start_time": "2025-07-15T08:36:08.702184Z"
    }
   },
   "cell_type": "code",
   "source": "np.save(f\"../data/initial kernels/new_kernel/cut_tabel\", final_tabel)",
   "id": "13274765d959a72d",
   "outputs": [],
   "execution_count": 77
  },
  {
   "metadata": {},
   "cell_type": "code",
   "outputs": [],
   "execution_count": null,
   "source": "",
   "id": "8577808bdb5650"
  }
 ],
 "metadata": {
  "kernelspec": {
   "display_name": "Python 3",
   "language": "python",
   "name": "python3"
  },
  "language_info": {
   "codemirror_mode": {
    "name": "ipython",
    "version": 2
   },
   "file_extension": ".py",
   "mimetype": "text/x-python",
   "name": "python",
   "nbconvert_exporter": "python",
   "pygments_lexer": "ipython2",
   "version": "2.7.6"
  }
 },
 "nbformat": 4,
 "nbformat_minor": 5
}
