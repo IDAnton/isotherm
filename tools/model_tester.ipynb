{
 "cells": [
  {
   "cell_type": "code",
   "id": "initial_id",
   "metadata": {
    "collapsed": true,
    "ExecuteTime": {
     "end_time": "2025-08-16T06:26:38.008123Z",
     "start_time": "2025-08-16T06:26:34.116413Z"
    }
   },
   "source": [
    "import numpy as np\n",
    "from inverse import fit_linear\n",
    "import model_tester\n",
    "import matplotlib.pyplot as plt\n",
    "import model_tester\n",
    "import importlib\n",
    "%matplotlib qt"
   ],
   "outputs": [],
   "execution_count": 1
  },
  {
   "metadata": {
    "ExecuteTime": {
     "end_time": "2025-08-16T06:40:59.607123Z",
     "start_time": "2025-08-16T06:40:59.593779Z"
    }
   },
   "cell_type": "code",
   "source": [
    "with open(\"../data/initial kernels/new_kernel/new_kernel.npy\", 'rb') as f:\n",
    "    data_sorb = np.load(f)"
   ],
   "id": "6dfc8624f46b97eb",
   "outputs": [],
   "execution_count": 15
  },
  {
   "metadata": {
    "ExecuteTime": {
     "end_time": "2025-08-16T06:55:57.652464Z",
     "start_time": "2025-08-16T06:55:57.633951Z"
    }
   },
   "cell_type": "code",
   "source": [
    "model1 = \"autoencoder_regressor\"\n",
    "model1_data = np.load(f\"../data/models/metrics/{model1}.npz\")\n",
    "model1_x = model1_data[\"x\"]\n",
    "model1_y = model1_data[\"y\"]"
   ],
   "id": "d910fff49da45de7",
   "outputs": [],
   "execution_count": 24
  },
  {
   "metadata": {
    "ExecuteTime": {
     "end_time": "2025-07-10T08:21:41.985795Z",
     "start_time": "2025-07-10T08:21:41.961168Z"
    }
   },
   "cell_type": "code",
   "source": [
    "model2 = \"autoencoder_regressor_pinn\"\n",
    "model2_data = np.load(f\"../data/models/metrics/{model2}.npz\")\n",
    "model2_x = model2_data[\"x\"]\n",
    "model2_y = model2_data[\"y\"]"
   ],
   "id": "b77bb3c664038ae1",
   "outputs": [],
   "execution_count": 4
  },
  {
   "metadata": {
    "ExecuteTime": {
     "end_time": "2025-07-10T08:21:43.876921Z",
     "start_time": "2025-07-10T08:21:43.848233Z"
    }
   },
   "cell_type": "code",
   "source": [
    "model3 = \"silica_CNN_cut_psd_exp.keras\"\n",
    "model3_data = np.load(f\"../data/models/metrics/{model3}.npz\")\n",
    "model3_x = model3_data[\"x\"]\n",
    "model3_y = model3_data[\"y\"]"
   ],
   "id": "c17a64a1b47edeb3",
   "outputs": [],
   "execution_count": 5
  },
  {
   "metadata": {
    "ExecuteTime": {
     "end_time": "2025-08-16T06:37:42.253613Z",
     "start_time": "2025-08-16T06:29:26.804058Z"
    }
   },
   "cell_type": "code",
   "source": [
    "math_psds = [fit_linear(l_curve_x[i], data_sorb[:, :], 0).x for i in range(len(l_curve_x))]\n",
    "restored_isotherms = [np.dot(data_sorb[:, :].T, psd) for psd in math_psds]"
   ],
   "id": "50ffcee2425e02d2",
   "outputs": [],
   "execution_count": 12
  },
  {
   "metadata": {
    "ExecuteTime": {
     "end_time": "2025-08-16T06:27:34.340950Z",
     "start_time": "2025-08-16T06:27:34.310950Z"
    }
   },
   "cell_type": "code",
   "source": [
    "l_curve = \"L_curve\"\n",
    "l_curve_data = np.load(f\"../data/models/metrics/{l_curve}.npz\")\n",
    "l_curve_x = l_curve_data[\"x\"]\n",
    "l_curve_y = l_curve_data[\"y\"]"
   ],
   "id": "fdccc0307efb9297",
   "outputs": [],
   "execution_count": 5
  },
  {
   "metadata": {
    "ExecuteTime": {
     "end_time": "2025-08-16T06:42:44.457415Z",
     "start_time": "2025-08-16T06:42:44.429413Z"
    }
   },
   "cell_type": "code",
   "source": [
    "model4 = \"autoencoder_regressor_combined\"\n",
    "model4_data = np.load(f\"../data/models/metrics/{model4}.npz\")\n",
    "model4_x = model4_data[\"x\"]\n",
    "model4_y = model4_data[\"y\"]"
   ],
   "id": "c3574164ea78020e",
   "outputs": [],
   "execution_count": 20
  },
  {
   "metadata": {
    "ExecuteTime": {
     "end_time": "2025-08-16T06:42:44.985199Z",
     "start_time": "2025-08-16T06:42:44.973200Z"
    }
   },
   "cell_type": "code",
   "source": "model4_y.shape",
   "id": "d0da31d551ccb263",
   "outputs": [
    {
     "data": {
      "text/plain": [
       "(462, 117)"
      ]
     },
     "execution_count": 21,
     "metadata": {},
     "output_type": "execute_result"
    }
   ],
   "execution_count": 21
  },
  {
   "metadata": {
    "ExecuteTime": {
     "end_time": "2025-08-16T07:28:32.240526Z",
     "start_time": "2025-08-16T07:28:31.560853Z"
    }
   },
   "cell_type": "code",
   "source": [
    "importlib.reload(model_tester)\n",
    "model_tester.plot_testing_graphs([l_curve_y, model4_y, model1_y], [l_curve_x, model4_x, model1_x], restored_isotherms, data_sorb[:, :].T, [l_curve, model4, model1])"
   ],
   "id": "d17e648f74b3f893",
   "outputs": [
    {
     "name": "stdout",
     "output_type": "stream",
     "text": [
      "L_curve Error PDF median: 33.862\n",
      "L_curve Roughness PDF median: 0.013\n",
      "autoencoder_regressor_combined Error PDF median: 99.371\n",
      "autoencoder_regressor_combined Roughness PDF median: 0.664\n",
      "autoencoder_regressor Error PDF median: 99.419\n",
      "autoencoder_regressor Roughness PDF median: 0.657\n",
      "math Error PDF median: 33.862\n",
      "math Roughness PDF median: 6.741\n"
     ]
    }
   ],
   "execution_count": 26
  },
  {
   "metadata": {
    "ExecuteTime": {
     "end_time": "2025-07-10T12:26:40.792390Z",
     "start_time": "2025-07-10T12:26:39.801005Z"
    }
   },
   "cell_type": "code",
   "source": [
    "importlib.reload(model_tester)\n",
    "model_tester.plot_testing_graphs([model1_y, model2_y, l_curve_y, model4_y], [model1_x, model2_x, l_curve_x, model4_x], restored_isotherms, data_sorb[:, :-10].T, [model1, model2, l_curve, model4])"
   ],
   "id": "8a1c36f6f2f7c9b3",
   "outputs": [
    {
     "name": "stdout",
     "output_type": "stream",
     "text": [
      "autoencoder_regressor Error PDF median: 20.183\n",
      "autoencoder_regressor Roughness PDF median: 2.249\n",
      "autoencoder_regressor_pinn Error PDF median: 18.375\n",
      "autoencoder_regressor_pinn Roughness PDF median: 1.998\n",
      "L_curve Error PDF median: 12.224\n",
      "L_curve Roughness PDF median: 2.205\n",
      "autoencoder_regressor_combined Error PDF median: 19.017\n",
      "autoencoder_regressor_combined Roughness PDF median: 1.912\n",
      "math Error PDF median: 11.561\n",
      "math Roughness PDF median: 13.615\n"
     ]
    }
   ],
   "execution_count": 14
  },
  {
   "metadata": {
    "ExecuteTime": {
     "end_time": "2025-06-18T09:49:05.782885Z",
     "start_time": "2025-06-18T09:49:05.781060Z"
    }
   },
   "cell_type": "code",
   "source": "",
   "id": "edf7fcf6c9f73e6d",
   "outputs": [],
   "execution_count": null
  }
 ],
 "metadata": {
  "kernelspec": {
   "display_name": "Python 3",
   "language": "python",
   "name": "python3"
  },
  "language_info": {
   "codemirror_mode": {
    "name": "ipython",
    "version": 2
   },
   "file_extension": ".py",
   "mimetype": "text/x-python",
   "name": "python",
   "nbconvert_exporter": "python",
   "pygments_lexer": "ipython2",
   "version": "2.7.6"
  }
 },
 "nbformat": 4,
 "nbformat_minor": 5
}
