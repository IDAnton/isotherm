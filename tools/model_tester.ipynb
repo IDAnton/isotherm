{
 "cells": [
  {
   "cell_type": "code",
   "id": "initial_id",
   "metadata": {
    "collapsed": true,
    "ExecuteTime": {
     "end_time": "2025-07-09T09:45:12.244265Z",
     "start_time": "2025-07-09T09:45:08.746539Z"
    }
   },
   "source": [
    "import numpy as np\n",
    "from inverse import fit_linear\n",
    "import model_tester\n",
    "import matplotlib.pyplot as plt\n",
    "import model_tester\n",
    "import importlib\n",
    "%matplotlib qt"
   ],
   "outputs": [],
   "execution_count": 1
  },
  {
   "metadata": {
    "ExecuteTime": {
     "end_time": "2025-07-09T09:45:13.090335Z",
     "start_time": "2025-07-09T09:45:13.074632Z"
    }
   },
   "cell_type": "code",
   "source": [
    "with open(\"../data/initial kernels/Kernel_Silica_Adsorption.npy\", 'rb') as f:\n",
    "    data_sorb = np.load(f)"
   ],
   "id": "6dfc8624f46b97eb",
   "outputs": [],
   "execution_count": 2
  },
  {
   "metadata": {
    "ExecuteTime": {
     "end_time": "2025-07-09T09:45:18.677589Z",
     "start_time": "2025-07-09T09:45:18.614394Z"
    }
   },
   "cell_type": "code",
   "source": [
    "model1 = \"autoencoder_regressor\"\n",
    "model1_data = np.load(f\"../data/models/metrics/{model1}.npz\")\n",
    "model1_x = model1_data[\"x\"]\n",
    "model1_y = model1_data[\"y\"]"
   ],
   "id": "d910fff49da45de7",
   "outputs": [],
   "execution_count": 3
  },
  {
   "metadata": {
    "ExecuteTime": {
     "end_time": "2025-07-09T09:45:19.719621Z",
     "start_time": "2025-07-09T09:45:19.688038Z"
    }
   },
   "cell_type": "code",
   "source": [
    "model2 = \"autoencoder_regressor_pinn\"\n",
    "model2_data = np.load(f\"../data/models/metrics/{model2}.npz\")\n",
    "model2_x = model2_data[\"x\"]\n",
    "model2_y = model2_data[\"y\"]"
   ],
   "id": "b77bb3c664038ae1",
   "outputs": [],
   "execution_count": 4
  },
  {
   "metadata": {
    "ExecuteTime": {
     "end_time": "2025-07-09T09:45:27.703750Z",
     "start_time": "2025-07-09T09:45:27.320677Z"
    }
   },
   "cell_type": "code",
   "source": [
    "model3 = \"silica_CNN_cut_psd_exp.keras\"\n",
    "model3_data = np.load(f\"../data/models/metrics/{model3}.npz\")\n",
    "model3_x = model3_data[\"x\"]\n",
    "model3_y = model3_data[\"y\"]"
   ],
   "id": "c17a64a1b47edeb3",
   "outputs": [
    {
     "ename": "FileNotFoundError",
     "evalue": "[Errno 2] No such file or directory: '../data/models/metrics/silica_CNN_cut_psd_exp.keras.npz'",
     "output_type": "error",
     "traceback": [
      "\u001B[1;31m---------------------------------------------------------------------------\u001B[0m",
      "\u001B[1;31mFileNotFoundError\u001B[0m                         Traceback (most recent call last)",
      "Cell \u001B[1;32mIn[5], line 2\u001B[0m\n\u001B[0;32m      1\u001B[0m model3 \u001B[38;5;241m=\u001B[39m \u001B[38;5;124m\"\u001B[39m\u001B[38;5;124msilica_CNN_cut_psd_exp.keras\u001B[39m\u001B[38;5;124m\"\u001B[39m\n\u001B[1;32m----> 2\u001B[0m model3_data \u001B[38;5;241m=\u001B[39m \u001B[43mnp\u001B[49m\u001B[38;5;241;43m.\u001B[39;49m\u001B[43mload\u001B[49m\u001B[43m(\u001B[49m\u001B[38;5;124;43mf\u001B[39;49m\u001B[38;5;124;43m\"\u001B[39;49m\u001B[38;5;124;43m../data/models/metrics/\u001B[39;49m\u001B[38;5;132;43;01m{\u001B[39;49;00m\u001B[43mmodel3\u001B[49m\u001B[38;5;132;43;01m}\u001B[39;49;00m\u001B[38;5;124;43m.npz\u001B[39;49m\u001B[38;5;124;43m\"\u001B[39;49m\u001B[43m)\u001B[49m\n\u001B[0;32m      3\u001B[0m model3_x \u001B[38;5;241m=\u001B[39m model3_data[\u001B[38;5;124m\"\u001B[39m\u001B[38;5;124mx\u001B[39m\u001B[38;5;124m\"\u001B[39m]\n\u001B[0;32m      4\u001B[0m model3_y \u001B[38;5;241m=\u001B[39m model3_data[\u001B[38;5;124m\"\u001B[39m\u001B[38;5;124my\u001B[39m\u001B[38;5;124m\"\u001B[39m]\n",
      "File \u001B[1;32m~\\PycharmProjects\\isotherm\\.venv\\lib\\site-packages\\numpy\\lib\\npyio.py:390\u001B[0m, in \u001B[0;36mload\u001B[1;34m(file, mmap_mode, allow_pickle, fix_imports, encoding)\u001B[0m\n\u001B[0;32m    388\u001B[0m     own_fid \u001B[38;5;241m=\u001B[39m \u001B[38;5;28;01mFalse\u001B[39;00m\n\u001B[0;32m    389\u001B[0m \u001B[38;5;28;01melse\u001B[39;00m:\n\u001B[1;32m--> 390\u001B[0m     fid \u001B[38;5;241m=\u001B[39m stack\u001B[38;5;241m.\u001B[39menter_context(\u001B[38;5;28;43mopen\u001B[39;49m\u001B[43m(\u001B[49m\u001B[43mos_fspath\u001B[49m\u001B[43m(\u001B[49m\u001B[43mfile\u001B[49m\u001B[43m)\u001B[49m\u001B[43m,\u001B[49m\u001B[43m \u001B[49m\u001B[38;5;124;43m\"\u001B[39;49m\u001B[38;5;124;43mrb\u001B[39;49m\u001B[38;5;124;43m\"\u001B[39;49m\u001B[43m)\u001B[49m)\n\u001B[0;32m    391\u001B[0m     own_fid \u001B[38;5;241m=\u001B[39m \u001B[38;5;28;01mTrue\u001B[39;00m\n\u001B[0;32m    393\u001B[0m \u001B[38;5;66;03m# Code to distinguish from NumPy binary files and pickles.\u001B[39;00m\n",
      "\u001B[1;31mFileNotFoundError\u001B[0m: [Errno 2] No such file or directory: '../data/models/metrics/silica_CNN_cut_psd_exp.keras.npz'"
     ]
    }
   ],
   "execution_count": 5
  },
  {
   "metadata": {
    "ExecuteTime": {
     "end_time": "2025-07-09T09:52:07.655988Z",
     "start_time": "2025-07-09T09:45:33.082645Z"
    }
   },
   "cell_type": "code",
   "source": [
    "math_psds = [fit_linear(model1_x[i], data_sorb[:, :-10], 0).x for i in range(len(model1_x))]\n",
    "restored_isotherms = [np.dot(data_sorb[:, :-10].T, psd) for psd in math_psds]"
   ],
   "id": "50ffcee2425e02d2",
   "outputs": [],
   "execution_count": 6
  },
  {
   "metadata": {
    "ExecuteTime": {
     "end_time": "2025-07-09T09:53:02.086845Z",
     "start_time": "2025-07-09T09:53:02.055246Z"
    }
   },
   "cell_type": "code",
   "source": [
    "l_curve = \"L_curve\"\n",
    "l_curve_data = np.load(f\"../data/models/metrics/{l_curve}.npz\")\n",
    "l_curve_x = l_curve_data[\"x\"]\n",
    "l_curve_y = l_curve_data[\"y\"]"
   ],
   "id": "fdccc0307efb9297",
   "outputs": [],
   "execution_count": 8
  },
  {
   "metadata": {
    "ExecuteTime": {
     "end_time": "2025-07-09T09:53:04.184164Z",
     "start_time": "2025-07-09T09:53:02.969462Z"
    }
   },
   "cell_type": "code",
   "source": [
    "importlib.reload(model_tester)\n",
    "model_tester.plot_testing_graphs([model1_y, model2_y, l_curve_y], [model1_x, model2_x, l_curve_x], restored_isotherms, data_sorb[:, :-10].T, [model1, model2, l_curve])"
   ],
   "id": "8a1c36f6f2f7c9b3",
   "outputs": [
    {
     "name": "stdout",
     "output_type": "stream",
     "text": [
      "autoencoder_regressor Error PDF median: 20.183\n",
      "autoencoder_regressor Roughness PDF median: 2.249\n",
      "autoencoder_regressor_pinn Error PDF median: 18.375\n",
      "autoencoder_regressor_pinn Roughness PDF median: 1.998\n",
      "L_curve Error PDF median: 12.224\n",
      "L_curve Roughness PDF median: 2.205\n",
      "math Error PDF median: 11.561\n",
      "math Roughness PDF median: 13.615\n"
     ]
    }
   ],
   "execution_count": 9
  },
  {
   "metadata": {
    "ExecuteTime": {
     "end_time": "2025-06-18T09:49:05.782885Z",
     "start_time": "2025-06-18T09:49:05.781060Z"
    }
   },
   "cell_type": "code",
   "source": "",
   "id": "edf7fcf6c9f73e6d",
   "outputs": [],
   "execution_count": null
  }
 ],
 "metadata": {
  "kernelspec": {
   "display_name": "Python 3",
   "language": "python",
   "name": "python3"
  },
  "language_info": {
   "codemirror_mode": {
    "name": "ipython",
    "version": 2
   },
   "file_extension": ".py",
   "mimetype": "text/x-python",
   "name": "python",
   "nbconvert_exporter": "python",
   "pygments_lexer": "ipython2",
   "version": "2.7.6"
  }
 },
 "nbformat": 4,
 "nbformat_minor": 5
}
