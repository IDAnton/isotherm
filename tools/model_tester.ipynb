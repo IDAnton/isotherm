{
 "cells": [
  {
   "cell_type": "code",
   "id": "initial_id",
   "metadata": {
    "collapsed": true,
    "ExecuteTime": {
     "end_time": "2025-06-18T06:24:54.855776Z",
     "start_time": "2025-06-18T06:24:50.800578Z"
    }
   },
   "source": [
    "import numpy as np\n",
    "from inverse import fit_linear\n",
    "import model_tester\n",
    "import matplotlib.pyplot as plt\n",
    "import model_tester\n",
    "import importlib\n",
    "%matplotlib qt"
   ],
   "outputs": [],
   "execution_count": 1
  },
  {
   "metadata": {
    "ExecuteTime": {
     "end_time": "2025-06-18T06:24:54.887643Z",
     "start_time": "2025-06-18T06:24:54.855776Z"
    }
   },
   "cell_type": "code",
   "source": [
    "with open(\"../data/initial kernels/Kernel_Silica_Adsorption.npy\", 'rb') as f:\n",
    "    data_sorb = np.load(f)"
   ],
   "id": "6dfc8624f46b97eb",
   "outputs": [],
   "execution_count": 2
  },
  {
   "metadata": {
    "ExecuteTime": {
     "end_time": "2025-06-18T06:24:55.506191Z",
     "start_time": "2025-06-18T06:24:55.474745Z"
    }
   },
   "cell_type": "code",
   "source": [
    "model1 = \"autoencoder_regressor\"\n",
    "model1_data = np.load(f\"../data/models/metrics/{model1}.npz\")\n",
    "model1_x = model1_data[\"x\"]\n",
    "model1_y = model1_data[\"y\"]"
   ],
   "id": "d910fff49da45de7",
   "outputs": [],
   "execution_count": 3
  },
  {
   "metadata": {
    "ExecuteTime": {
     "end_time": "2025-06-18T06:24:55.585025Z",
     "start_time": "2025-06-18T06:24:55.553321Z"
    }
   },
   "cell_type": "code",
   "source": [
    "model2 = \"autoencoder_regressor_lognormal\"\n",
    "model2_data = np.load(f\"../data/models/metrics/{model2}.npz\")\n",
    "model2_x = model2_data[\"x\"]\n",
    "model2_y = model2_data[\"y\"]"
   ],
   "id": "b77bb3c664038ae1",
   "outputs": [],
   "execution_count": 4
  },
  {
   "metadata": {
    "ExecuteTime": {
     "end_time": "2025-06-18T06:31:26.225238Z",
     "start_time": "2025-06-18T06:24:55.585025Z"
    }
   },
   "cell_type": "code",
   "source": [
    "math_psds = [fit_linear(model1_x[i], data_sorb[:, :-10], 0).x for i in range(len(model1_x))]\n",
    "restored_isotherms = [np.dot(data_sorb[:, :-10].T, psd) for psd in math_psds]"
   ],
   "id": "50ffcee2425e02d2",
   "outputs": [],
   "execution_count": 5
  },
  {
   "metadata": {
    "ExecuteTime": {
     "end_time": "2025-06-18T06:32:03.222952Z",
     "start_time": "2025-06-18T06:32:00.741599Z"
    }
   },
   "cell_type": "code",
   "source": [
    "importlib.reload(model_tester)\n",
    "model_tester.plot_testing_graphs([model1_y, model2_y], [model1_x, model2_x], restored_isotherms, data_sorb[:, :-10].T, [model1, model2])"
   ],
   "id": "8a1c36f6f2f7c9b3",
   "outputs": [
    {
     "name": "stdout",
     "output_type": "stream",
     "text": [
      "autoencoder_regressor Error PDF median: 20.183\n",
      "autoencoder_regressor Roughness PDF median: 2.249\n",
      "autoencoder_regressor_lognormal Error PDF median: 19.351\n",
      "autoencoder_regressor_lognormal Roughness PDF median: 2.478\n",
      "math Error PDF median: 11.561\n",
      "math Roughness PDF median: 13.615\n"
     ]
    }
   ],
   "execution_count": 7
  },
  {
   "metadata": {},
   "cell_type": "code",
   "outputs": [],
   "execution_count": null,
   "source": "",
   "id": "edf7fcf6c9f73e6d"
  }
 ],
 "metadata": {
  "kernelspec": {
   "display_name": "Python 3",
   "language": "python",
   "name": "python3"
  },
  "language_info": {
   "codemirror_mode": {
    "name": "ipython",
    "version": 2
   },
   "file_extension": ".py",
   "mimetype": "text/x-python",
   "name": "python",
   "nbconvert_exporter": "python",
   "pygments_lexer": "ipython2",
   "version": "2.7.6"
  }
 },
 "nbformat": 4,
 "nbformat_minor": 5
}
