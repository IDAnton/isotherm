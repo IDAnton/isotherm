{
 "cells": [
  {
   "cell_type": "code",
   "id": "initial_id",
   "metadata": {
    "collapsed": true,
    "ExecuteTime": {
     "end_time": "2025-07-10T08:21:40.364373Z",
     "start_time": "2025-07-10T08:21:39.069730Z"
    }
   },
   "source": [
    "import numpy as np\n",
    "from inverse import fit_linear\n",
    "import model_tester\n",
    "import matplotlib.pyplot as plt\n",
    "import model_tester\n",
    "import importlib\n",
    "%matplotlib qt"
   ],
   "outputs": [],
   "execution_count": 1
  },
  {
   "metadata": {
    "ExecuteTime": {
     "end_time": "2025-07-10T08:21:40.389759Z",
     "start_time": "2025-07-10T08:21:40.373837Z"
    }
   },
   "cell_type": "code",
   "source": [
    "with open(\"../data/initial kernels/Kernel_Silica_Adsorption.npy\", 'rb') as f:\n",
    "    data_sorb = np.load(f)"
   ],
   "id": "6dfc8624f46b97eb",
   "outputs": [],
   "execution_count": 2
  },
  {
   "metadata": {
    "ExecuteTime": {
     "end_time": "2025-07-10T08:21:40.420879Z",
     "start_time": "2025-07-10T08:21:40.389759Z"
    }
   },
   "cell_type": "code",
   "source": [
    "model1 = \"autoencoder_regressor\"\n",
    "model1_data = np.load(f\"../data/models/metrics/{model1}.npz\")\n",
    "model1_x = model1_data[\"x\"]\n",
    "model1_y = model1_data[\"y\"]"
   ],
   "id": "d910fff49da45de7",
   "outputs": [],
   "execution_count": 3
  },
  {
   "metadata": {
    "ExecuteTime": {
     "end_time": "2025-07-10T08:21:41.985795Z",
     "start_time": "2025-07-10T08:21:41.961168Z"
    }
   },
   "cell_type": "code",
   "source": [
    "model2 = \"autoencoder_regressor_pinn\"\n",
    "model2_data = np.load(f\"../data/models/metrics/{model2}.npz\")\n",
    "model2_x = model2_data[\"x\"]\n",
    "model2_y = model2_data[\"y\"]"
   ],
   "id": "b77bb3c664038ae1",
   "outputs": [],
   "execution_count": 4
  },
  {
   "metadata": {
    "ExecuteTime": {
     "end_time": "2025-07-10T08:21:43.876921Z",
     "start_time": "2025-07-10T08:21:43.848233Z"
    }
   },
   "cell_type": "code",
   "source": [
    "model3 = \"silica_CNN_cut_psd_exp.keras\"\n",
    "model3_data = np.load(f\"../data/models/metrics/{model3}.npz\")\n",
    "model3_x = model3_data[\"x\"]\n",
    "model3_y = model3_data[\"y\"]"
   ],
   "id": "c17a64a1b47edeb3",
   "outputs": [],
   "execution_count": 5
  },
  {
   "metadata": {
    "ExecuteTime": {
     "end_time": "2025-07-10T08:22:56.509211Z",
     "start_time": "2025-07-10T08:21:45.976115Z"
    }
   },
   "cell_type": "code",
   "source": [
    "math_psds = [fit_linear(model1_x[i], data_sorb[:, :-10], 0).x for i in range(len(model1_x))]\n",
    "restored_isotherms = [np.dot(data_sorb[:, :-10].T, psd) for psd in math_psds]"
   ],
   "id": "50ffcee2425e02d2",
   "outputs": [],
   "execution_count": 6
  },
  {
   "metadata": {
    "ExecuteTime": {
     "end_time": "2025-07-10T08:22:56.525098Z",
     "start_time": "2025-07-10T08:22:56.509211Z"
    }
   },
   "cell_type": "code",
   "source": [
    "l_curve = \"L_curve\"\n",
    "l_curve_data = np.load(f\"../data/models/metrics/{l_curve}.npz\")\n",
    "l_curve_x = l_curve_data[\"x\"]\n",
    "l_curve_y = l_curve_data[\"y\"]"
   ],
   "id": "fdccc0307efb9297",
   "outputs": [],
   "execution_count": 7
  },
  {
   "metadata": {
    "ExecuteTime": {
     "end_time": "2025-07-10T08:27:57.079580Z",
     "start_time": "2025-07-10T08:27:57.031713Z"
    }
   },
   "cell_type": "code",
   "source": [
    "model4 = \"autoencoder_regressor_combined\"\n",
    "model4_data = np.load(f\"../data/models/metrics/{model4}.npz\")\n",
    "model4_x = model4_data[\"x\"]\n",
    "model4_y = model4_data[\"y\"]"
   ],
   "id": "c3574164ea78020e",
   "outputs": [],
   "execution_count": 11
  },
  {
   "metadata": {
    "ExecuteTime": {
     "end_time": "2025-07-10T12:26:40.792390Z",
     "start_time": "2025-07-10T12:26:39.801005Z"
    }
   },
   "cell_type": "code",
   "source": [
    "importlib.reload(model_tester)\n",
    "model_tester.plot_testing_graphs([model1_y, model2_y, l_curve_y, model4_y], [model1_x, model2_x, l_curve_x, model4_x], restored_isotherms, data_sorb[:, :-10].T, [model1, model2, l_curve, model4])"
   ],
   "id": "8a1c36f6f2f7c9b3",
   "outputs": [
    {
     "name": "stdout",
     "output_type": "stream",
     "text": [
      "autoencoder_regressor Error PDF median: 20.183\n",
      "autoencoder_regressor Roughness PDF median: 2.249\n",
      "autoencoder_regressor_pinn Error PDF median: 18.375\n",
      "autoencoder_regressor_pinn Roughness PDF median: 1.998\n",
      "L_curve Error PDF median: 12.224\n",
      "L_curve Roughness PDF median: 2.205\n",
      "autoencoder_regressor_combined Error PDF median: 19.017\n",
      "autoencoder_regressor_combined Roughness PDF median: 1.912\n",
      "math Error PDF median: 11.561\n",
      "math Roughness PDF median: 13.615\n"
     ]
    }
   ],
   "execution_count": 14
  },
  {
   "metadata": {
    "ExecuteTime": {
     "end_time": "2025-06-18T09:49:05.782885Z",
     "start_time": "2025-06-18T09:49:05.781060Z"
    }
   },
   "cell_type": "code",
   "source": "",
   "id": "edf7fcf6c9f73e6d",
   "outputs": [],
   "execution_count": null
  }
 ],
 "metadata": {
  "kernelspec": {
   "display_name": "Python 3",
   "language": "python",
   "name": "python3"
  },
  "language_info": {
   "codemirror_mode": {
    "name": "ipython",
    "version": 2
   },
   "file_extension": ".py",
   "mimetype": "text/x-python",
   "name": "python",
   "nbconvert_exporter": "python",
   "pygments_lexer": "ipython2",
   "version": "2.7.6"
  }
 },
 "nbformat": 4,
 "nbformat_minor": 5
}
