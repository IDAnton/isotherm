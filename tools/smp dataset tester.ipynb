{
 "cells": [
  {
   "cell_type": "code",
   "execution_count": null,
   "id": "initial_id",
   "metadata": {
    "collapsed": true
   },
   "outputs": [],
   "source": [
    ""
   ]
  },
  {
   "metadata": {},
   "cell_type": "code",
   "outputs": [],
   "execution_count": null,
   "source": [
    "import numpy as np\n",
    "from matplotlib import pyplot as plt\n",
    "import random\n",
    "\n",
    "a = np.load(\"data/datasets/SMP.npz\")\n",
    "pressures = np.load(\"data/initial kernels/Pressure_Silica.npy\")[77:-10]\n",
    "pore_widths = np.load(\"data/initial kernels/Size_Kernel_Silica_Adsorption.npy\")"
   ],
   "id": "c28a3bc23886ca77"
  },
  {
   "metadata": {},
   "cell_type": "code",
   "outputs": [],
   "execution_count": null,
   "source": [
    "for _ in range(10):\n",
    "    i = random.randint(0, len(a[\"isotherm_data\"]))\n",
    "    plt.plot(pressures, a['isotherm_data'][i].T, marker=\".\")\n",
    "    plt.show()\n",
    "    plt.plot(pore_widths, a['pore_distribution_data'][i].T, marker=\".\")\n",
    "    plt.show()"
   ],
   "id": "5f9a7b9dada3af49"
  }
 ],
 "metadata": {
  "kernelspec": {
   "display_name": "Python 3",
   "language": "python",
   "name": "python3"
  },
  "language_info": {
   "codemirror_mode": {
    "name": "ipython",
    "version": 2
   },
   "file_extension": ".py",
   "mimetype": "text/x-python",
   "name": "python",
   "nbconvert_exporter": "python",
   "pygments_lexer": "ipython2",
   "version": "2.7.6"
  }
 },
 "nbformat": 4,
 "nbformat_minor": 5
}
